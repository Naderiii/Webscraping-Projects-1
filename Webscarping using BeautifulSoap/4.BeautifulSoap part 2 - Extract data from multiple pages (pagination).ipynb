{
 "cells": [
  {
   "cell_type": "markdown",
   "id": "bccca6cb",
   "metadata": {},
   "source": [
    "# import the required libraries"
   ]
  },
  {
   "cell_type": "code",
   "execution_count": 5,
   "id": "453ff83c",
   "metadata": {},
   "outputs": [],
   "source": [
    "from bs4 import BeautifulSoup\n",
    "import requests\n",
    "import pandas as pd"
   ]
  },
  {
   "cell_type": "markdown",
   "id": "473b69fc",
   "metadata": {},
   "source": [
    "# HTTP request"
   ]
  },
  {
   "cell_type": "markdown",
   "id": "60e676e7",
   "metadata": {},
   "source": [
    "### Store website url in a variable"
   ]
  },
  {
   "cell_type": "code",
   "execution_count": 6,
   "id": "2d866d58",
   "metadata": {},
   "outputs": [],
   "source": [
    "url = \"https://www.opencodez.com/\""
   ]
  },
  {
   "cell_type": "markdown",
   "id": "2100b94b",
   "metadata": {},
   "source": [
    "### Get request"
   ]
  },
  {
   "cell_type": "code",
   "execution_count": null,
   "id": "4e0dacac",
   "metadata": {},
   "outputs": [],
   "source": [
    "response = requests.get(url)"
   ]
  },
  {
   "cell_type": "markdown",
   "id": "35e2e87f",
   "metadata": {},
   "source": [
    "### Check status code"
   ]
  },
  {
   "cell_type": "code",
   "execution_count": null,
   "id": "667cf615",
   "metadata": {},
   "outputs": [],
   "source": [
    "response.status_code"
   ]
  },
  {
   "cell_type": "markdown",
   "id": "fb746f3f",
   "metadata": {},
   "source": [
    "# BeautifulSoup Object"
   ]
  },
  {
   "cell_type": "code",
   "execution_count": null,
   "id": "07f6c779",
   "metadata": {},
   "outputs": [],
   "source": [
    "bs = BeautifulSoup(response.content , \"html.parser\")"
   ]
  },
  {
   "cell_type": "code",
   "execution_count": 27,
   "id": "ee784425",
   "metadata": {},
   "outputs": [
    {
     "name": "stdout",
     "output_type": "stream",
     "text": [
      "https://www.opencodez.com/page/2\n",
      "https://www.opencodez.com/page/3\n",
      "https://www.opencodez.com/page/4\n",
      "https://www.opencodez.com/page/2\n",
      "https://www.opencodez.com/page/19\n"
     ]
    }
   ],
   "source": [
    "for a in bs.findAll(\"a\" , attrs = {\"class\":\"inactive\"}):\n",
    "    print(a[\"href\"])"
   ]
  },
  {
   "cell_type": "code",
   "execution_count": 28,
   "id": "110bfaf7",
   "metadata": {},
   "outputs": [
    {
     "data": {
      "text/plain": [
       "19"
      ]
     },
     "execution_count": 28,
     "metadata": {},
     "output_type": "execute_result"
    }
   ],
   "source": [
    "# get lastest number of page\n",
    "last_page_number = int(bs.findAll(\"a\" , attrs = {\"class\":\"inactive\"})[-1][\"href\"].split(\"/\")[-1])\n",
    "last_page_number"
   ]
  },
  {
   "cell_type": "markdown",
   "id": "534969cc",
   "metadata": {},
   "source": [
    "# Extract data from multiple pages (Pagination)"
   ]
  },
  {
   "cell_type": "code",
   "execution_count": 29,
   "id": "e0eaf760",
   "metadata": {},
   "outputs": [
    {
     "name": "stdout",
     "output_type": "stream",
     "text": [
      "Scraping page number 1 is finished\n",
      "Scraping page number 2 is finished\n",
      "Scraping page number 3 is finished\n",
      "Scraping page number 4 is finished\n",
      "Scraping page number 5 is finished\n",
      "Scraping page number 6 is finished\n",
      "Scraping page number 7 is finished\n",
      "Scraping page number 8 is finished\n",
      "Scraping page number 9 is finished\n",
      "Scraping page number 10 is finished\n",
      "Scraping page number 11 is finished\n",
      "Scraping page number 12 is finished\n",
      "Scraping page number 13 is finished\n",
      "Scraping page number 14 is finished\n",
      "Scraping page number 15 is finished\n",
      "Scraping page number 16 is finished\n",
      "Scraping page number 17 is finished\n",
      "Scraping page number 18 is finished\n",
      "Scraping page number 19 is finished\n"
     ]
    }
   ],
   "source": [
    "title_list = []\n",
    "description_list = []\n",
    "author_list = []\n",
    "year_list = []\n",
    "month_list = []\n",
    "post_link_list = []\n",
    "image_link_list = []\n",
    "\n",
    "# scrap all pages\n",
    "\n",
    "for p in range(1, last_page_number + 1):\n",
    "    url = \"https://www.opencodez.com/page/{}\".format(p)\n",
    "    \n",
    "    response = requests.get(url)\n",
    "    bs = BeautifulSoup(response.content, \"html.parser\")\n",
    "    latest_post = bs.find(\"div\" , attrs = {\"class\":\"latest-section\"})\n",
    "    \n",
    "# scrap latest-section from each page   \n",
    "\n",
    "    title_all = latest_post.findAll(\"h2\" , attrs = {\"class\":\"title\"})\n",
    "    descriptions = latest_post.findAll(\"div\" , attrs = {\"class\":\"post-content image-caption-format-1\"})\n",
    "    authors = latest_post.findAll(\"span\" , attrs = {\"class\":\"theauthor\"})\n",
    "    years_all = latest_post.findAll(\"span\" , attrs = {\"class\":\"thetime\"})\n",
    "    months_all = latest_post.findAll(\"span\" , attrs = {\"class\":\"thetime\"})\n",
    "    all_posts_link = latest_post.findAll(\"h2\" , attrs = {\"class\":\"title\"})\n",
    "    all_images_link = latest_post.findAll(\"div\" , attrs = {\"class\":\"featured-thumbnail\"})\n",
    "    \n",
    "# get number of each list\n",
    "\n",
    "    each_list_lenght = [\n",
    "        len(title_all),\n",
    "        len(descriptions),\n",
    "        len(authors),\n",
    "        len(years_all),\n",
    "        len(months_all),\n",
    "        len(all_posts_link),\n",
    "        len(all_images_link)\n",
    "    ]\n",
    "\n",
    "    \n",
    "# check for missing value\n",
    "\n",
    "    if len(set(each_list_lenght)) == 1:\n",
    "        for index in range(0,each_list_lenght[0]):\n",
    "\n",
    "            title_list.append(title_all[index].find(\"a\").get_text())\n",
    "            description_list.append(descriptions[index].find('p').get_text().strip())\n",
    "            author_list.append(authors[index].find(\"a\").get_text())\n",
    "            year_list.append(years_all[index].get_text().split(\",\")[1].strip())\n",
    "            month_list.append(months_all[index].get_text().split(\",\")[0].strip())\n",
    "            post_link_list.append(all_posts_link[index].find(\"a\")[\"href\"])\n",
    "            image_link_list.append(all_images_link[index].find('img')['src'])\n",
    "\n",
    "    else:\n",
    "        print(\"sorry we have missing values\")\n",
    "        \n",
    "    \n",
    "    print(\"Scraping page number {} is finished\".format(p))"
   ]
  },
  {
   "cell_type": "markdown",
   "id": "84911540",
   "metadata": {},
   "source": [
    "# Create Pandas DataFrame"
   ]
  },
  {
   "cell_type": "code",
   "execution_count": 33,
   "id": "cad9be24",
   "metadata": {},
   "outputs": [
    {
     "data": {
      "text/html": [
       "<div>\n",
       "<style scoped>\n",
       "    .dataframe tbody tr th:only-of-type {\n",
       "        vertical-align: middle;\n",
       "    }\n",
       "\n",
       "    .dataframe tbody tr th {\n",
       "        vertical-align: top;\n",
       "    }\n",
       "\n",
       "    .dataframe thead th {\n",
       "        text-align: right;\n",
       "    }\n",
       "</style>\n",
       "<table border=\"1\" class=\"dataframe\">\n",
       "  <thead>\n",
       "    <tr style=\"text-align: right;\">\n",
       "      <th></th>\n",
       "      <th>titles</th>\n",
       "      <th>descriptions</th>\n",
       "      <th>authors</th>\n",
       "      <th>years</th>\n",
       "      <th>months</th>\n",
       "      <th>posts_link</th>\n",
       "      <th>images_link</th>\n",
       "    </tr>\n",
       "  </thead>\n",
       "  <tbody>\n",
       "    <tr>\n",
       "      <th>0</th>\n",
       "      <td>Python Tutorial :#2 Python Vs Java</td>\n",
       "      <td>As we know Python and Java, Both the languages...</td>\n",
       "      <td>Supriya</td>\n",
       "      <td>2022</td>\n",
       "      <td>Mar 10</td>\n",
       "      <td>https://www.opencodez.com/python/python-tutori...</td>\n",
       "      <td>https://www.opencodez.com/wp-content/uploads/2...</td>\n",
       "    </tr>\n",
       "    <tr>\n",
       "      <th>1</th>\n",
       "      <td>Python Tutorial : #1 Introduction to Python</td>\n",
       "      <td>Python is a most popular programming language ...</td>\n",
       "      <td>Supriya</td>\n",
       "      <td>2022</td>\n",
       "      <td>Feb 20</td>\n",
       "      <td>https://www.opencodez.com/python/python-tutori...</td>\n",
       "      <td>https://www.opencodez.com/wp-content/uploads/2...</td>\n",
       "    </tr>\n",
       "    <tr>\n",
       "      <th>2</th>\n",
       "      <td>Chain of Responsibility – Behavioral Design Pa...</td>\n",
       "      <td>The Chain of Responsibility Pattern comes unde...</td>\n",
       "      <td>Supriya</td>\n",
       "      <td>2020</td>\n",
       "      <td>Aug 1</td>\n",
       "      <td>https://www.opencodez.com/java/chain-of-respon...</td>\n",
       "      <td>https://www.opencodez.com/wp-content/uploads/2...</td>\n",
       "    </tr>\n",
       "    <tr>\n",
       "      <th>3</th>\n",
       "      <td>Flyweight Pattern – Structural Design Pattern</td>\n",
       "      <td>Flyweight pattern comes under Structural Desig...</td>\n",
       "      <td>Supriya</td>\n",
       "      <td>2020</td>\n",
       "      <td>May 20</td>\n",
       "      <td>https://www.opencodez.com/java/flyweight-patte...</td>\n",
       "      <td>https://www.opencodez.com/wp-content/uploads/2...</td>\n",
       "    </tr>\n",
       "    <tr>\n",
       "      <th>4</th>\n",
       "      <td>What Is Full Stack QA or Tester? 4 Steps Guide...</td>\n",
       "      <td>We have always heard the term full-stack devel...</td>\n",
       "      <td>Shilpa</td>\n",
       "      <td>2020</td>\n",
       "      <td>May 18</td>\n",
       "      <td>https://www.opencodez.com/software-testing/bec...</td>\n",
       "      <td>https://www.opencodez.com/wp-content/uploads/2...</td>\n",
       "    </tr>\n",
       "    <tr>\n",
       "      <th>...</th>\n",
       "      <td>...</td>\n",
       "      <td>...</td>\n",
       "      <td>...</td>\n",
       "      <td>...</td>\n",
       "      <td>...</td>\n",
       "      <td>...</td>\n",
       "      <td>...</td>\n",
       "    </tr>\n",
       "    <tr>\n",
       "      <th>215</th>\n",
       "      <td>Note on Software Development</td>\n",
       "      <td>Understand the requirements: It’s often the ca...</td>\n",
       "      <td>Pavan</td>\n",
       "      <td>2009</td>\n",
       "      <td>Feb 13</td>\n",
       "      <td>https://www.opencodez.com/web-development/note...</td>\n",
       "      <td>https://www.opencodez.com/wp-content/uploads/2...</td>\n",
       "    </tr>\n",
       "    <tr>\n",
       "      <th>216</th>\n",
       "      <td>Points you must check while installing XAMPP o...</td>\n",
       "      <td>Xampp is the best option to run websites on wi...</td>\n",
       "      <td>Pavan</td>\n",
       "      <td>2009</td>\n",
       "      <td>Feb 12</td>\n",
       "      <td>https://www.opencodez.com/web-server/installin...</td>\n",
       "      <td>https://www.opencodez.com/wp-content/uploads/2...</td>\n",
       "    </tr>\n",
       "    <tr>\n",
       "      <th>217</th>\n",
       "      <td>Sort your tables with out an extra server trip</td>\n",
       "      <td>Name I need back my money Jack Bauer $10.00 Ch...</td>\n",
       "      <td>Pavan</td>\n",
       "      <td>2009</td>\n",
       "      <td>Feb 1</td>\n",
       "      <td>https://www.opencodez.com/java-script/sort-you...</td>\n",
       "      <td>https://www.opencodez.com/wp-content/uploads/2...</td>\n",
       "    </tr>\n",
       "    <tr>\n",
       "      <th>218</th>\n",
       "      <td>How to learn a Programming Language easily</td>\n",
       "      <td>Learning a programming language is as good as ...</td>\n",
       "      <td>Pavan</td>\n",
       "      <td>2008</td>\n",
       "      <td>Dec 21</td>\n",
       "      <td>https://www.opencodez.com/how-to-guide/learnin...</td>\n",
       "      <td>https://www.opencodez.com/wp-content/uploads/2...</td>\n",
       "    </tr>\n",
       "    <tr>\n",
       "      <th>219</th>\n",
       "      <td>How to become an Efficient and Good Programmer</td>\n",
       "      <td>I have been in the Software Industry for more ...</td>\n",
       "      <td>Pavan</td>\n",
       "      <td>2008</td>\n",
       "      <td>Dec 21</td>\n",
       "      <td>https://www.opencodez.com/how-to-guide/how-to-...</td>\n",
       "      <td>https://www.opencodez.com/wp-content/uploads/2...</td>\n",
       "    </tr>\n",
       "  </tbody>\n",
       "</table>\n",
       "<p>220 rows × 7 columns</p>\n",
       "</div>"
      ],
      "text/plain": [
       "                                                titles  \\\n",
       "0                   Python Tutorial :#2 Python Vs Java   \n",
       "1          Python Tutorial : #1 Introduction to Python   \n",
       "2    Chain of Responsibility – Behavioral Design Pa...   \n",
       "3        Flyweight Pattern – Structural Design Pattern   \n",
       "4    What Is Full Stack QA or Tester? 4 Steps Guide...   \n",
       "..                                                 ...   \n",
       "215                       Note on Software Development   \n",
       "216  Points you must check while installing XAMPP o...   \n",
       "217     Sort your tables with out an extra server trip   \n",
       "218         How to learn a Programming Language easily   \n",
       "219     How to become an Efficient and Good Programmer   \n",
       "\n",
       "                                          descriptions  authors years  months  \\\n",
       "0    As we know Python and Java, Both the languages...  Supriya  2022  Mar 10   \n",
       "1    Python is a most popular programming language ...  Supriya  2022  Feb 20   \n",
       "2    The Chain of Responsibility Pattern comes unde...  Supriya  2020   Aug 1   \n",
       "3    Flyweight pattern comes under Structural Desig...  Supriya  2020  May 20   \n",
       "4    We have always heard the term full-stack devel...   Shilpa  2020  May 18   \n",
       "..                                                 ...      ...   ...     ...   \n",
       "215  Understand the requirements: It’s often the ca...    Pavan  2009  Feb 13   \n",
       "216  Xampp is the best option to run websites on wi...    Pavan  2009  Feb 12   \n",
       "217  Name I need back my money Jack Bauer $10.00 Ch...    Pavan  2009   Feb 1   \n",
       "218  Learning a programming language is as good as ...    Pavan  2008  Dec 21   \n",
       "219  I have been in the Software Industry for more ...    Pavan  2008  Dec 21   \n",
       "\n",
       "                                            posts_link  \\\n",
       "0    https://www.opencodez.com/python/python-tutori...   \n",
       "1    https://www.opencodez.com/python/python-tutori...   \n",
       "2    https://www.opencodez.com/java/chain-of-respon...   \n",
       "3    https://www.opencodez.com/java/flyweight-patte...   \n",
       "4    https://www.opencodez.com/software-testing/bec...   \n",
       "..                                                 ...   \n",
       "215  https://www.opencodez.com/web-development/note...   \n",
       "216  https://www.opencodez.com/web-server/installin...   \n",
       "217  https://www.opencodez.com/java-script/sort-you...   \n",
       "218  https://www.opencodez.com/how-to-guide/learnin...   \n",
       "219  https://www.opencodez.com/how-to-guide/how-to-...   \n",
       "\n",
       "                                           images_link  \n",
       "0    https://www.opencodez.com/wp-content/uploads/2...  \n",
       "1    https://www.opencodez.com/wp-content/uploads/2...  \n",
       "2    https://www.opencodez.com/wp-content/uploads/2...  \n",
       "3    https://www.opencodez.com/wp-content/uploads/2...  \n",
       "4    https://www.opencodez.com/wp-content/uploads/2...  \n",
       "..                                                 ...  \n",
       "215  https://www.opencodez.com/wp-content/uploads/2...  \n",
       "216  https://www.opencodez.com/wp-content/uploads/2...  \n",
       "217  https://www.opencodez.com/wp-content/uploads/2...  \n",
       "218  https://www.opencodez.com/wp-content/uploads/2...  \n",
       "219  https://www.opencodez.com/wp-content/uploads/2...  \n",
       "\n",
       "[220 rows x 7 columns]"
      ]
     },
     "execution_count": 33,
     "metadata": {},
     "output_type": "execute_result"
    }
   ],
   "source": [
    "df = pd.DataFrame(list(zip(title_list, description_list, author_list, year_list, month_list,post_link_list,\n",
    "                           image_link_list)), columns=[\"titles\",\"descriptions\",\"authors\",\"years\",\"months\",\n",
    "                                                        \"posts_link\",\"images_link\"])\n",
    "df"
   ]
  },
  {
   "cell_type": "code",
   "execution_count": 36,
   "id": "25cdb37c",
   "metadata": {},
   "outputs": [
    {
     "data": {
      "text/plain": [
       "'As we know Python and Java, Both the languages are powerful and both the languages provide many great frameworks. But the question is when to use which language? So, in'"
      ]
     },
     "execution_count": 36,
     "metadata": {},
     "output_type": "execute_result"
    }
   ],
   "source": [
    "df.descriptions[0]"
   ]
  },
  {
   "cell_type": "code",
   "execution_count": 34,
   "id": "cd0e84e9",
   "metadata": {},
   "outputs": [],
   "source": [
    "df.to_csv(\"OpenCodes_posts.csv\" , index = False)"
   ]
  },
  {
   "cell_type": "code",
   "execution_count": null,
   "id": "6d6b8dd4",
   "metadata": {},
   "outputs": [],
   "source": []
  },
  {
   "cell_type": "code",
   "execution_count": null,
   "id": "28d89ab8",
   "metadata": {},
   "outputs": [],
   "source": []
  }
 ],
 "metadata": {
  "kernelspec": {
   "display_name": "Python 3 (ipykernel)",
   "language": "python",
   "name": "python3"
  },
  "language_info": {
   "codemirror_mode": {
    "name": "ipython",
    "version": 3
   },
   "file_extension": ".py",
   "mimetype": "text/x-python",
   "name": "python",
   "nbconvert_exporter": "python",
   "pygments_lexer": "ipython3",
   "version": "3.11.2"
  }
 },
 "nbformat": 4,
 "nbformat_minor": 5
}
