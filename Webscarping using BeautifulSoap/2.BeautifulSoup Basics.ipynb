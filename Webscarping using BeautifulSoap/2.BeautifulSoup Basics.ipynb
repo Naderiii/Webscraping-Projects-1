{
 "cells": [
  {
   "cell_type": "markdown",
   "id": "cdc1cd2e",
   "metadata": {},
   "source": [
    "# import the required libraries"
   ]
  },
  {
   "cell_type": "code",
   "execution_count": 1,
   "id": "5f5798c6",
   "metadata": {},
   "outputs": [],
   "source": [
    "from bs4 import BeautifulSoup\n",
    "import requests"
   ]
  },
  {
   "cell_type": "markdown",
   "id": "34c29dac",
   "metadata": {},
   "source": [
    "# HTTP request"
   ]
  },
  {
   "cell_type": "markdown",
   "id": "50f8064c",
   "metadata": {},
   "source": [
    "### Store website url in a variable"
   ]
  },
  {
   "cell_type": "code",
   "execution_count": 2,
   "id": "e8b791ef",
   "metadata": {},
   "outputs": [],
   "source": [
    "url = \"https://www.opencodez.com/\""
   ]
  },
  {
   "cell_type": "markdown",
   "id": "58dbd007",
   "metadata": {},
   "source": [
    "### Get request"
   ]
  },
  {
   "cell_type": "code",
   "execution_count": 3,
   "id": "fec4cf7d",
   "metadata": {},
   "outputs": [],
   "source": [
    "response = requests.get(url)"
   ]
  },
  {
   "cell_type": "markdown",
   "id": "37a8373d",
   "metadata": {},
   "source": [
    "### Check status code"
   ]
  },
  {
   "cell_type": "code",
   "execution_count": 4,
   "id": "87491ac7",
   "metadata": {},
   "outputs": [
    {
     "data": {
      "text/plain": [
       "200"
      ]
     },
     "execution_count": 4,
     "metadata": {},
     "output_type": "execute_result"
    }
   ],
   "source": [
    "response.status_code"
   ]
  },
  {
   "cell_type": "markdown",
   "id": "6be5287d",
   "metadata": {},
   "source": [
    "# BeautifulSoup Object"
   ]
  },
  {
   "cell_type": "code",
   "execution_count": 5,
   "id": "9ac0b9b2",
   "metadata": {},
   "outputs": [],
   "source": [
    "bs = BeautifulSoup(response.content, \"html.parser\")"
   ]
  },
  {
   "cell_type": "markdown",
   "id": "36018308",
   "metadata": {},
   "source": [
    "# Important Function"
   ]
  },
  {
   "cell_type": "markdown",
   "id": "c3f51600",
   "metadata": {},
   "source": [
    "#### Find(): returns the first element"
   ]
  },
  {
   "cell_type": "markdown",
   "id": "05eee7e4",
   "metadata": {},
   "source": [
    "#### First option"
   ]
  },
  {
   "cell_type": "code",
   "execution_count": 45,
   "id": "3b47b85b",
   "metadata": {},
   "outputs": [
    {
     "data": {
      "text/plain": [
       "'Free Themes Download'"
      ]
     },
     "execution_count": 45,
     "metadata": {},
     "output_type": "execute_result"
    }
   ],
   "source": [
    "find_by_id = bs.find(id = \"wpdm_topdownloads-3\").get_text().split(\"\\n\\n\\n\\n\\n\")[0].strip()\n",
    "find_by_id"
   ]
  },
  {
   "cell_type": "markdown",
   "id": "56932f15",
   "metadata": {},
   "source": [
    "#### Second option"
   ]
  },
  {
   "cell_type": "code",
   "execution_count": 46,
   "id": "aec51be7",
   "metadata": {},
   "outputs": [
    {
     "data": {
      "text/plain": [
       "'Free Themes Download'"
      ]
     },
     "execution_count": 46,
     "metadata": {},
     "output_type": "execute_result"
    }
   ],
   "source": [
    "find_by_id2 = bs.find(\"li\" , attrs = {\"id\":\"wpdm_topdownloads-3\"}).find(\"h3\").get_text()\n",
    "find_by_id2"
   ]
  },
  {
   "cell_type": "markdown",
   "id": "f3985b38",
   "metadata": {},
   "source": [
    "### find_all() and findAll(): return a list of element"
   ]
  },
  {
   "cell_type": "code",
   "execution_count": 47,
   "id": "8b15d139",
   "metadata": {},
   "outputs": [
    {
     "data": {
      "text/plain": [
       "[<h2 class=\"title\">\n",
       " <a href=\"https://www.opencodez.com/python/python-tutorial-2-python-vs-java.htm\" rel=\"bookmark\" title=\"Python Tutorial :#2 Python Vs Java\">Python Tutorial :#2 Python Vs Java</a>\n",
       " </h2>,\n",
       " <h2 class=\"title\">\n",
       " <a href=\"https://www.opencodez.com/python/python-tutorial-1-introduction-to-python.htm\" rel=\"bookmark\" title=\"Python Tutorial : #1 Introduction to Python\">Python Tutorial : #1 Introduction to Python</a>\n",
       " </h2>,\n",
       " <h2 class=\"title\">\n",
       " <a href=\"https://www.opencodez.com/java/chain-of-responsibility-pattern.htm\" rel=\"bookmark\" title=\"Chain of Responsibility – Behavioral Design Pattern\">Chain of Responsibility – Behavioral Design Pattern</a>\n",
       " </h2>,\n",
       " <h2 class=\"title\">\n",
       " <a href=\"https://www.opencodez.com/java/flyweight-pattern.htm\" rel=\"bookmark\" title=\"Flyweight Pattern – Structural Design Pattern\">Flyweight Pattern – Structural Design Pattern</a>\n",
       " </h2>,\n",
       " <h2 class=\"title\">\n",
       " <a href=\"https://www.opencodez.com/software-testing/become-full-stack-qa-engineer.htm\" rel=\"bookmark\" title=\"What Is Full Stack QA or Tester? 4 Steps Guide For Beginners\">What Is Full Stack QA or Tester? 4 Steps Guide For Beginners</a>\n",
       " </h2>,\n",
       " <h2 class=\"title\">\n",
       " <a href=\"https://www.opencodez.com/it-lifestyle/7-highly-effective-ways-professionals-can-prepare-recession.htm\" rel=\"bookmark\" title=\"Recession 2020 -7 Highly Effective Ways IT Professionals Can Prepare\">Recession 2020 -7 Highly Effective Ways IT Professionals Can Prepare</a>\n",
       " </h2>,\n",
       " <h2 class=\"title\">\n",
       " <a href=\"https://www.opencodez.com/it-lifestyle/10-productivity-tips-for-working-from-home.htm\" rel=\"bookmark\" title=\"10 Productivity Tips For Working From Home (WFH) – Practical To Follow\">10 Productivity Tips For Working From Home (WFH) – Practical To Follow</a>\n",
       " </h2>,\n",
       " <h2 class=\"title\">\n",
       " <a href=\"https://www.opencodez.com/software-testing/complete-step-step-guide-gherkin-beginners.htm\" rel=\"bookmark\" title=\"Complete Step by Step Guide of Gherkin for Beginners\">Complete Step by Step Guide of Gherkin for Beginners</a>\n",
       " </h2>,\n",
       " <h2 class=\"title\">\n",
       " <a href=\"https://www.opencodez.com/how-to-guide/the-8-most-commonly-asked-hr-interview-questions.htm\" rel=\"bookmark\" title=\"Top 8 Most Commonly asked HR Interview Questions With Answers\">Top 8 Most Commonly asked HR Interview Questions With Answers</a>\n",
       " </h2>,\n",
       " <h2 class=\"title\">\n",
       " <a href=\"https://www.opencodez.com/software-testing/free-testing-artifacts-deliverables-template-to-download.htm\" rel=\"bookmark\" title=\"7 Free Testing Artifacts / Deliverables Template To Download\">7 Free Testing Artifacts / Deliverables Template To Download</a>\n",
       " </h2>,\n",
       " <h2 class=\"title\">\n",
       " <a href=\"https://www.opencodez.com/software-testing/test-cases-with-examples-free-test-case-template-to-download.htm\" rel=\"bookmark\" title=\"What is Test Case (TC), Examples with Free Template To Download\">What is Test Case (TC), Examples with Free Template To Download</a>\n",
       " </h2>,\n",
       " <h2 class=\"title\">\n",
       " <a href=\"https://www.opencodez.com/software-testing/test-data.htm\" rel=\"bookmark\" title=\"What is Test Data? Examples with Free Template to Download\">What is Test Data? Examples with Free Template to Download</a>\n",
       " </h2>,\n",
       " <h2 class=\"title\">\n",
       " <a href=\"https://www.opencodez.com/it-lifestyle/6-part-time-jobs-software-engineers-earn-extra-money.htm\" rel=\"bookmark\" title=\"6 Part Time Jobs For IT Engineers To Earn Extra Money\">6 Part Time Jobs For IT Engineers To Earn Extra Money</a>\n",
       " </h2>,\n",
       " <h2 class=\"title\">\n",
       " <a href=\"https://www.opencodez.com/oracle/oracle-sql-command-handbook.htm\" rel=\"bookmark\" title=\"Oracle SQL Command Handbook\">Oracle SQL Command Handbook</a>\n",
       " </h2>,\n",
       " <h2 class=\"title\">\n",
       " <a href=\"https://www.opencodez.com/java/quartz-java-job-scheduling-service.htm\" rel=\"bookmark\" title=\"Quartz – Java Job Scheduling Service\">Quartz – Java Job Scheduling Service</a>\n",
       " </h2>,\n",
       " <h2 class=\"title\">\n",
       " <a href=\"https://www.opencodez.com/software-testing/free-testing-artifacts-deliverables-template-to-download.htm\" rel=\"bookmark\" title=\"7 Free Testing Artifacts / Deliverables Template To Download\">7 Free Testing Artifacts / Deliverables Template To Download</a>\n",
       " </h2>,\n",
       " <h2 class=\"title\">\n",
       " <a href=\"https://www.opencodez.com/it-lifestyle/6-tips-to-deal-with-it-professional-anxiety.htm\" rel=\"bookmark\" title=\"6 Tips To Deal With IT Professional’s Anxiety\">6 Tips To Deal With IT Professional’s Anxiety</a>\n",
       " </h2>,\n",
       " <h2 class=\"title\">\n",
       " <a href=\"https://www.opencodez.com/java/passing-command-line-arguments-java-spring-boot-example.htm\" rel=\"bookmark\" title=\"Passing Command Line Arguments in Java – Spring Boot Example\">Passing Command Line Arguments in Java – Spring Boot Example</a>\n",
       " </h2>,\n",
       " <h2 class=\"title\">\n",
       " <a href=\"https://www.opencodez.com/php/build-a-web-service-using-php.htm\" rel=\"bookmark\" title=\"Build a Web service using PHP\">Build a Web service using PHP</a>\n",
       " </h2>,\n",
       " <h2 class=\"title\">\n",
       " <a href=\"https://www.opencodez.com/wordpress-2/how-to-add-a-shortcode-in-wordpress.htm\" rel=\"bookmark\" title=\"How to Add a Shortcode in WordPress\">How to Add a Shortcode in WordPress</a>\n",
       " </h2>,\n",
       " <h2 class=\"title\">\n",
       " <a href=\"https://www.opencodez.com/software-testing/sql-for-qa-tutorial13-stored-functions.htm\" rel=\"bookmark\" title=\"SQL for QA: Tutorial#13 – Stored Functions\">SQL for QA: Tutorial#13 – Stored Functions</a>\n",
       " </h2>,\n",
       " <h2 class=\"title\">\n",
       " <a href=\"https://www.opencodez.com/software-testing/become-full-stack-qa-engineer.htm\" rel=\"bookmark\" title=\"What Is Full Stack QA or Tester? 4 Steps Guide For Beginners\">What Is Full Stack QA or Tester? 4 Steps Guide For Beginners</a>\n",
       " </h2>]"
      ]
     },
     "execution_count": 47,
     "metadata": {},
     "output_type": "execute_result"
    }
   ],
   "source": [
    "posts_all = bs.find_all(\"h2\" , attrs = {\"class\":\"title\"})\n",
    "posts_all"
   ]
  },
  {
   "cell_type": "code",
   "execution_count": 50,
   "id": "fbc695eb",
   "metadata": {},
   "outputs": [
    {
     "data": {
      "text/plain": [
       "22"
      ]
     },
     "execution_count": 50,
     "metadata": {},
     "output_type": "execute_result"
    }
   ],
   "source": [
    "len(posts_all)"
   ]
  },
  {
   "cell_type": "code",
   "execution_count": 6,
   "id": "cec433b3",
   "metadata": {},
   "outputs": [],
   "source": [
    "postsAll = bs.findAll(\"h2\" , attrs = {\"class\":\"title\"})\n",
    "# postsAll"
   ]
  },
  {
   "cell_type": "code",
   "execution_count": 49,
   "id": "31d7bbc8",
   "metadata": {},
   "outputs": [
    {
     "data": {
      "text/plain": [
       "22"
      ]
     },
     "execution_count": 49,
     "metadata": {},
     "output_type": "execute_result"
    }
   ],
   "source": [
    "len(postsAll)"
   ]
  },
  {
   "cell_type": "code",
   "execution_count": 52,
   "id": "58ff01d9",
   "metadata": {},
   "outputs": [
    {
     "data": {
      "text/plain": [
       "True"
      ]
     },
     "execution_count": 52,
     "metadata": {},
     "output_type": "execute_result"
    }
   ],
   "source": [
    "posts_all == postsAll"
   ]
  },
  {
   "cell_type": "markdown",
   "id": "6e5ecbe6",
   "metadata": {},
   "source": [
    "## select_one(): equivalent to find() function /return the first element/ select by css selectors"
   ]
  },
  {
   "cell_type": "code",
   "execution_count": 58,
   "id": "3fbeef59",
   "metadata": {},
   "outputs": [
    {
     "data": {
      "text/plain": [
       "'Free Themes Download'"
      ]
     },
     "execution_count": 58,
     "metadata": {},
     "output_type": "execute_result"
    }
   ],
   "source": [
    "# in css has (#) in the first of the id\n",
    "select_one_by_id = bs.select_one(\"#wpdm_topdownloads-3\").get_text().split(\"\\n\\n\\n\\n\\n\")[0].strip()\n",
    "select_one_by_id"
   ]
  },
  {
   "cell_type": "code",
   "execution_count": 69,
   "id": "83dbc8e8",
   "metadata": {},
   "outputs": [
    {
     "data": {
      "text/plain": [
       "'Python Tutorial :#2 Python Vs Java'"
      ]
     },
     "execution_count": 69,
     "metadata": {},
     "output_type": "execute_result"
    }
   ],
   "source": [
    "# in css has (.) in the first of the class\n",
    "select_one_by_class = bs.select_one(\".title\").find(\"a\").get_text()\n",
    "select_one_by_class"
   ]
  },
  {
   "cell_type": "markdown",
   "id": "9c4e78ce",
   "metadata": {},
   "source": [
    "## select(): equivalent to find_all() and findAll() functions /returns a list of elements/ select by css selectors"
   ]
  },
  {
   "cell_type": "code",
   "execution_count": 73,
   "id": "006df140",
   "metadata": {},
   "outputs": [
    {
     "data": {
      "text/plain": [
       "[<h2 class=\"title\">\n",
       " <a href=\"https://www.opencodez.com/python/python-tutorial-2-python-vs-java.htm\" rel=\"bookmark\" title=\"Python Tutorial :#2 Python Vs Java\">Python Tutorial :#2 Python Vs Java</a>\n",
       " </h2>,\n",
       " <h2 class=\"title\">\n",
       " <a href=\"https://www.opencodez.com/python/python-tutorial-1-introduction-to-python.htm\" rel=\"bookmark\" title=\"Python Tutorial : #1 Introduction to Python\">Python Tutorial : #1 Introduction to Python</a>\n",
       " </h2>,\n",
       " <h2 class=\"title\">\n",
       " <a href=\"https://www.opencodez.com/java/chain-of-responsibility-pattern.htm\" rel=\"bookmark\" title=\"Chain of Responsibility – Behavioral Design Pattern\">Chain of Responsibility – Behavioral Design Pattern</a>\n",
       " </h2>,\n",
       " <h2 class=\"title\">\n",
       " <a href=\"https://www.opencodez.com/java/flyweight-pattern.htm\" rel=\"bookmark\" title=\"Flyweight Pattern – Structural Design Pattern\">Flyweight Pattern – Structural Design Pattern</a>\n",
       " </h2>,\n",
       " <h2 class=\"title\">\n",
       " <a href=\"https://www.opencodez.com/software-testing/become-full-stack-qa-engineer.htm\" rel=\"bookmark\" title=\"What Is Full Stack QA or Tester? 4 Steps Guide For Beginners\">What Is Full Stack QA or Tester? 4 Steps Guide For Beginners</a>\n",
       " </h2>,\n",
       " <h2 class=\"title\">\n",
       " <a href=\"https://www.opencodez.com/it-lifestyle/7-highly-effective-ways-professionals-can-prepare-recession.htm\" rel=\"bookmark\" title=\"Recession 2020 -7 Highly Effective Ways IT Professionals Can Prepare\">Recession 2020 -7 Highly Effective Ways IT Professionals Can Prepare</a>\n",
       " </h2>,\n",
       " <h2 class=\"title\">\n",
       " <a href=\"https://www.opencodez.com/it-lifestyle/10-productivity-tips-for-working-from-home.htm\" rel=\"bookmark\" title=\"10 Productivity Tips For Working From Home (WFH) – Practical To Follow\">10 Productivity Tips For Working From Home (WFH) – Practical To Follow</a>\n",
       " </h2>,\n",
       " <h2 class=\"title\">\n",
       " <a href=\"https://www.opencodez.com/software-testing/complete-step-step-guide-gherkin-beginners.htm\" rel=\"bookmark\" title=\"Complete Step by Step Guide of Gherkin for Beginners\">Complete Step by Step Guide of Gherkin for Beginners</a>\n",
       " </h2>,\n",
       " <h2 class=\"title\">\n",
       " <a href=\"https://www.opencodez.com/how-to-guide/the-8-most-commonly-asked-hr-interview-questions.htm\" rel=\"bookmark\" title=\"Top 8 Most Commonly asked HR Interview Questions With Answers\">Top 8 Most Commonly asked HR Interview Questions With Answers</a>\n",
       " </h2>,\n",
       " <h2 class=\"title\">\n",
       " <a href=\"https://www.opencodez.com/software-testing/free-testing-artifacts-deliverables-template-to-download.htm\" rel=\"bookmark\" title=\"7 Free Testing Artifacts / Deliverables Template To Download\">7 Free Testing Artifacts / Deliverables Template To Download</a>\n",
       " </h2>,\n",
       " <h2 class=\"title\">\n",
       " <a href=\"https://www.opencodez.com/software-testing/test-cases-with-examples-free-test-case-template-to-download.htm\" rel=\"bookmark\" title=\"What is Test Case (TC), Examples with Free Template To Download\">What is Test Case (TC), Examples with Free Template To Download</a>\n",
       " </h2>,\n",
       " <h2 class=\"title\">\n",
       " <a href=\"https://www.opencodez.com/software-testing/test-data.htm\" rel=\"bookmark\" title=\"What is Test Data? Examples with Free Template to Download\">What is Test Data? Examples with Free Template to Download</a>\n",
       " </h2>,\n",
       " <h2 class=\"title\">\n",
       " <a href=\"https://www.opencodez.com/it-lifestyle/6-part-time-jobs-software-engineers-earn-extra-money.htm\" rel=\"bookmark\" title=\"6 Part Time Jobs For IT Engineers To Earn Extra Money\">6 Part Time Jobs For IT Engineers To Earn Extra Money</a>\n",
       " </h2>,\n",
       " <h2 class=\"title\">\n",
       " <a href=\"https://www.opencodez.com/oracle/oracle-sql-command-handbook.htm\" rel=\"bookmark\" title=\"Oracle SQL Command Handbook\">Oracle SQL Command Handbook</a>\n",
       " </h2>,\n",
       " <h2 class=\"title\">\n",
       " <a href=\"https://www.opencodez.com/java/quartz-java-job-scheduling-service.htm\" rel=\"bookmark\" title=\"Quartz – Java Job Scheduling Service\">Quartz – Java Job Scheduling Service</a>\n",
       " </h2>,\n",
       " <h2 class=\"title\">\n",
       " <a href=\"https://www.opencodez.com/software-testing/free-testing-artifacts-deliverables-template-to-download.htm\" rel=\"bookmark\" title=\"7 Free Testing Artifacts / Deliverables Template To Download\">7 Free Testing Artifacts / Deliverables Template To Download</a>\n",
       " </h2>,\n",
       " <h2 class=\"title\">\n",
       " <a href=\"https://www.opencodez.com/it-lifestyle/6-tips-to-deal-with-it-professional-anxiety.htm\" rel=\"bookmark\" title=\"6 Tips To Deal With IT Professional’s Anxiety\">6 Tips To Deal With IT Professional’s Anxiety</a>\n",
       " </h2>,\n",
       " <h2 class=\"title\">\n",
       " <a href=\"https://www.opencodez.com/java/passing-command-line-arguments-java-spring-boot-example.htm\" rel=\"bookmark\" title=\"Passing Command Line Arguments in Java – Spring Boot Example\">Passing Command Line Arguments in Java – Spring Boot Example</a>\n",
       " </h2>,\n",
       " <h2 class=\"title\">\n",
       " <a href=\"https://www.opencodez.com/php/build-a-web-service-using-php.htm\" rel=\"bookmark\" title=\"Build a Web service using PHP\">Build a Web service using PHP</a>\n",
       " </h2>,\n",
       " <h2 class=\"title\">\n",
       " <a href=\"https://www.opencodez.com/wordpress-2/how-to-add-a-shortcode-in-wordpress.htm\" rel=\"bookmark\" title=\"How to Add a Shortcode in WordPress\">How to Add a Shortcode in WordPress</a>\n",
       " </h2>,\n",
       " <h2 class=\"title\">\n",
       " <a href=\"https://www.opencodez.com/software-testing/sql-for-qa-tutorial13-stored-functions.htm\" rel=\"bookmark\" title=\"SQL for QA: Tutorial#13 – Stored Functions\">SQL for QA: Tutorial#13 – Stored Functions</a>\n",
       " </h2>,\n",
       " <h2 class=\"title\">\n",
       " <a href=\"https://www.opencodez.com/software-testing/become-full-stack-qa-engineer.htm\" rel=\"bookmark\" title=\"What Is Full Stack QA or Tester? 4 Steps Guide For Beginners\">What Is Full Stack QA or Tester? 4 Steps Guide For Beginners</a>\n",
       " </h2>]"
      ]
     },
     "execution_count": 73,
     "metadata": {},
     "output_type": "execute_result"
    }
   ],
   "source": [
    "# in css has (.) in the first of the class\n",
    "posts_select = bs.select(\".title\")\n",
    "posts_select"
   ]
  },
  {
   "cell_type": "code",
   "execution_count": 74,
   "id": "970f8f77",
   "metadata": {},
   "outputs": [
    {
     "data": {
      "text/plain": [
       "22"
      ]
     },
     "execution_count": 74,
     "metadata": {},
     "output_type": "execute_result"
    }
   ],
   "source": [
    "len(posts_select)"
   ]
  },
  {
   "cell_type": "markdown",
   "id": "2f0468e4",
   "metadata": {},
   "source": [
    "## Compare get_text() function vs. get attributes values"
   ]
  },
  {
   "cell_type": "markdown",
   "id": "134d7347",
   "metadata": {},
   "source": [
    "#### First option"
   ]
  },
  {
   "cell_type": "code",
   "execution_count": 75,
   "id": "a674c431",
   "metadata": {},
   "outputs": [
    {
     "data": {
      "text/plain": [
       "'Python Tutorial :#2 Python Vs Java'"
      ]
     },
     "execution_count": 75,
     "metadata": {},
     "output_type": "execute_result"
    }
   ],
   "source": [
    "bs.find(\"h2\" , attrs = {\"class\":\"title\"}).find(\"a\").get_text()"
   ]
  },
  {
   "cell_type": "markdown",
   "id": "734d6ffc",
   "metadata": {},
   "source": [
    "#### Second option"
   ]
  },
  {
   "cell_type": "code",
   "execution_count": 76,
   "id": "09ce2b9b",
   "metadata": {},
   "outputs": [
    {
     "data": {
      "text/plain": [
       "'Python Tutorial :#2 Python Vs Java'"
      ]
     },
     "execution_count": 76,
     "metadata": {},
     "output_type": "execute_result"
    }
   ],
   "source": [
    "bs.find(\"h2\" , attrs = {\"class\":\"title\"}).find(\"a\").get(\"title\")"
   ]
  },
  {
   "cell_type": "code",
   "execution_count": 78,
   "id": "56c4ec50",
   "metadata": {},
   "outputs": [
    {
     "data": {
      "text/plain": [
       "'https://www.opencodez.com/python/python-tutorial-2-python-vs-java.htm'"
      ]
     },
     "execution_count": 78,
     "metadata": {},
     "output_type": "execute_result"
    }
   ],
   "source": [
    "bs.find(\"h2\" , attrs = {\"class\":\"title\"}).find(\"a\").get(\"href\")"
   ]
  },
  {
   "cell_type": "markdown",
   "id": "5d4169dd",
   "metadata": {},
   "source": [
    "#### Third option"
   ]
  },
  {
   "cell_type": "code",
   "execution_count": 77,
   "id": "808e272e",
   "metadata": {},
   "outputs": [
    {
     "data": {
      "text/plain": [
       "'Python Tutorial :#2 Python Vs Java'"
      ]
     },
     "execution_count": 77,
     "metadata": {},
     "output_type": "execute_result"
    }
   ],
   "source": [
    "bs.find(\"h2\" , attrs = {\"class\":\"title\"}).find(\"a\")[\"title\"]"
   ]
  },
  {
   "cell_type": "code",
   "execution_count": 79,
   "id": "275faa70",
   "metadata": {},
   "outputs": [
    {
     "data": {
      "text/plain": [
       "'https://www.opencodez.com/python/python-tutorial-2-python-vs-java.htm'"
      ]
     },
     "execution_count": 79,
     "metadata": {},
     "output_type": "execute_result"
    }
   ],
   "source": [
    "bs.find(\"h2\" , attrs = {\"class\":\"title\"}).find(\"a\")[\"href\"]"
   ]
  },
  {
   "cell_type": "code",
   "execution_count": null,
   "id": "e7fb6091",
   "metadata": {},
   "outputs": [],
   "source": []
  }
 ],
 "metadata": {
  "kernelspec": {
   "display_name": "Python 3 (ipykernel)",
   "language": "python",
   "name": "python3"
  },
  "language_info": {
   "codemirror_mode": {
    "name": "ipython",
    "version": 3
   },
   "file_extension": ".py",
   "mimetype": "text/x-python",
   "name": "python",
   "nbconvert_exporter": "python",
   "pygments_lexer": "ipython3",
   "version": "3.11.2"
  }
 },
 "nbformat": 4,
 "nbformat_minor": 5
}
