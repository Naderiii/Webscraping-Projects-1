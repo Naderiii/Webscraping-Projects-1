{
 "cells": [
  {
   "cell_type": "markdown",
   "id": "bccca6cb",
   "metadata": {},
   "source": [
    "# import the required libraries"
   ]
  },
  {
   "cell_type": "code",
   "execution_count": 2,
   "id": "453ff83c",
   "metadata": {},
   "outputs": [],
   "source": [
    "from bs4 import BeautifulSoup\n",
    "import requests\n",
    "import pandas as pd\n",
    "import numpy as np"
   ]
  },
  {
   "cell_type": "markdown",
   "id": "473b69fc",
   "metadata": {},
   "source": [
    "# HTTP request"
   ]
  },
  {
   "cell_type": "markdown",
   "id": "60e676e7",
   "metadata": {},
   "source": [
    "### Store website url in a variable"
   ]
  },
  {
   "cell_type": "code",
   "execution_count": 3,
   "id": "2d866d58",
   "metadata": {},
   "outputs": [],
   "source": [
    "url = \"https://www.opencodez.com/\""
   ]
  },
  {
   "cell_type": "markdown",
   "id": "2100b94b",
   "metadata": {},
   "source": [
    "### Get request"
   ]
  },
  {
   "cell_type": "code",
   "execution_count": 5,
   "id": "4e0dacac",
   "metadata": {},
   "outputs": [],
   "source": [
    "response = requests.get(url)"
   ]
  },
  {
   "cell_type": "markdown",
   "id": "35e2e87f",
   "metadata": {},
   "source": [
    "### Check status code"
   ]
  },
  {
   "cell_type": "code",
   "execution_count": 6,
   "id": "667cf615",
   "metadata": {},
   "outputs": [
    {
     "data": {
      "text/plain": [
       "200"
      ]
     },
     "execution_count": 6,
     "metadata": {},
     "output_type": "execute_result"
    }
   ],
   "source": [
    "response.status_code"
   ]
  },
  {
   "cell_type": "markdown",
   "id": "ae0d7612",
   "metadata": {},
   "source": [
    "# BeautifulSoup Object"
   ]
  },
  {
   "cell_type": "code",
   "execution_count": 7,
   "id": "07f6c779",
   "metadata": {},
   "outputs": [],
   "source": [
    "soup = BeautifulSoup(response.content , \"html.parser\")"
   ]
  },
  {
   "cell_type": "markdown",
   "id": "662dbe5f",
   "metadata": {},
   "source": [
    "# Results"
   ]
  },
  {
   "cell_type": "code",
   "execution_count": 8,
   "id": "110bfaf7",
   "metadata": {},
   "outputs": [],
   "source": [
    "latest_post = soup.find(\"div\" , attrs = {\"class\":\"latest-section\"})\n",
    "# latest_post"
   ]
  },
  {
   "cell_type": "markdown",
   "id": "8ebdfdd0",
   "metadata": {},
   "source": [
    "### Extract data from one post"
   ]
  },
  {
   "cell_type": "code",
   "execution_count": 7,
   "id": "e0eaf760",
   "metadata": {},
   "outputs": [
    {
     "data": {
      "text/plain": [
       "'Python Tutorial :#2 Python Vs Java'"
      ]
     },
     "execution_count": 7,
     "metadata": {},
     "output_type": "execute_result"
    }
   ],
   "source": [
    "title = latest_post.find(\"h2\" , attrs = {\"class\":\"title\"}).get_text().strip()\n",
    "title"
   ]
  },
  {
   "cell_type": "code",
   "execution_count": 8,
   "id": "397fdd2e",
   "metadata": {},
   "outputs": [],
   "source": [
    "readMore_url = latest_post.find(\"div\" , attrs = {\"class\":\"readMore\"}).find(\"a\")[\"href\"]\n",
    "response = requests.get(readMore_url)\n",
    "soup_readMore = BeautifulSoup(response.content , \"html.parser\")"
   ]
  },
  {
   "cell_type": "code",
   "execution_count": 9,
   "id": "2b245f9a",
   "metadata": {},
   "outputs": [
    {
     "data": {
      "text/plain": [
       "'As we know Python and Java, Both the languages are powerful and both the languages provide many great frameworks. But the question is when to use which language? So, in this article we are going to some see main differences between Python and Java.'"
      ]
     },
     "execution_count": 9,
     "metadata": {},
     "output_type": "execute_result"
    }
   ],
   "source": [
    "description = soup_readMore.find(\"div\" , attrs = {\"class\":\"post-single-content box mark-links\"}).find(\"p\").get_text().strip()\n",
    "description"
   ]
  },
  {
   "cell_type": "code",
   "execution_count": 10,
   "id": "3f4df1f6",
   "metadata": {},
   "outputs": [
    {
     "data": {
      "text/plain": [
       "'Supriya'"
      ]
     },
     "execution_count": 10,
     "metadata": {},
     "output_type": "execute_result"
    }
   ],
   "source": [
    "author = latest_post.find(\"span\" , attrs = {\"class\":\"theauthor\"}).find(\"a\").get_text().strip()\n",
    "author"
   ]
  },
  {
   "cell_type": "code",
   "execution_count": 11,
   "id": "712f2e9c",
   "metadata": {},
   "outputs": [
    {
     "data": {
      "text/plain": [
       "['Mar 10', ' 2022']"
      ]
     },
     "execution_count": 11,
     "metadata": {},
     "output_type": "execute_result"
    }
   ],
   "source": [
    "time = latest_post.find(\"span\" , attrs = {\"class\":\"thetime\"}).get_text().strip().split(\",\")\n",
    "time"
   ]
  },
  {
   "cell_type": "code",
   "execution_count": 12,
   "id": "e3219875",
   "metadata": {},
   "outputs": [
    {
     "data": {
      "text/plain": [
       "'Mar 10'"
      ]
     },
     "execution_count": 12,
     "metadata": {},
     "output_type": "execute_result"
    }
   ],
   "source": [
    "date = time[0]\n",
    "date"
   ]
  },
  {
   "cell_type": "code",
   "execution_count": 13,
   "id": "86b12947",
   "metadata": {},
   "outputs": [
    {
     "data": {
      "text/plain": [
       "'2022'"
      ]
     },
     "execution_count": 13,
     "metadata": {},
     "output_type": "execute_result"
    }
   ],
   "source": [
    "year = time[1].strip()\n",
    "year"
   ]
  },
  {
   "cell_type": "code",
   "execution_count": 14,
   "id": "360a23aa",
   "metadata": {},
   "outputs": [
    {
     "data": {
      "text/plain": [
       "'https://www.opencodez.com/python/python-tutorial-2-python-vs-java.htm'"
      ]
     },
     "execution_count": 14,
     "metadata": {},
     "output_type": "execute_result"
    }
   ],
   "source": [
    "post_link = latest_post.find(\"h2\" , attrs = {\"class\":\"title\"}).find(\"a\")[\"href\"]\n",
    "post_link"
   ]
  },
  {
   "cell_type": "code",
   "execution_count": 15,
   "id": "56093373",
   "metadata": {},
   "outputs": [
    {
     "data": {
      "text/plain": [
       "'https://www.opencodez.com/wp-content/uploads/2022/03/python-vs-java-150x100.png'"
      ]
     },
     "execution_count": 15,
     "metadata": {},
     "output_type": "execute_result"
    }
   ],
   "source": [
    "image_link = latest_post.find(\"div\" , attrs = {\"class\":\"featured-thumbnail\"}).find(\"img\")[\"src\"]\n",
    "image_link"
   ]
  },
  {
   "cell_type": "markdown",
   "id": "4b30cdb5",
   "metadata": {},
   "source": [
    "## Extract data from all posts"
   ]
  },
  {
   "cell_type": "code",
   "execution_count": 41,
   "id": "88f0f987",
   "metadata": {},
   "outputs": [],
   "source": [
    "title_all = latest_post.findAll(\"h2\" , attrs = {\"class\":\"title\"})\n",
    "descriptions = latest_post.findAll(\"div\" , attrs = {\"class\":\"post-content image-caption-format-1\"})\n",
    "authors = latest_post.findAll(\"span\" , attrs = {\"class\":\"theauthor\"})\n",
    "years_all = latest_post.findAll(\"span\" , attrs = {\"class\":\"thetime\"})\n",
    "months_all = latest_post.findAll(\"span\" , attrs = {\"class\":\"thetime\"})\n",
    "all_posts_link = latest_post.findAll(\"h2\" , attrs = {\"class\":\"title\"})\n",
    "all_images_link = latest_post.findAll(\"div\" , attrs = {\"class\":\"featured-thumbnail\"})\n",
    "readMore_url = latest_post.findAll(\"div\" , attrs = {\"class\":\"readMore\"})"
   ]
  },
  {
   "cell_type": "code",
   "execution_count": 42,
   "id": "255aa7ad",
   "metadata": {},
   "outputs": [
    {
     "data": {
      "text/plain": [
       "[12, 12, 12, 12, 12, 12, 12, 12]"
      ]
     },
     "execution_count": 42,
     "metadata": {},
     "output_type": "execute_result"
    }
   ],
   "source": [
    "# to know all of the post have values\n",
    "\n",
    "each_list_lenght = [\n",
    "    len(title_all),\n",
    "    len(descriptions),\n",
    "    len(authors),\n",
    "    len(years_all),\n",
    "    len(months_all),\n",
    "    len(all_posts_link),\n",
    "    len(all_images_link),\n",
    "    len(readMore_url)\n",
    "]\n",
    "\n",
    "each_list_lenght"
   ]
  },
  {
   "cell_type": "code",
   "execution_count": 43,
   "id": "6d1dd13e",
   "metadata": {},
   "outputs": [],
   "source": [
    "title_list = []\n",
    "descriptions_list = []\n",
    "authors_list = []\n",
    "years_list = []\n",
    "months_list = []\n",
    "posts_link_list = []\n",
    "images_link_list = []\n",
    "readMore_list_url = []"
   ]
  },
  {
   "cell_type": "code",
   "execution_count": 45,
   "id": "3d7fbadd",
   "metadata": {
    "scrolled": false
   },
   "outputs": [],
   "source": [
    "# check for missing value\n",
    "\n",
    "if len(set(each_list_lenght)) == 1:\n",
    "    \n",
    "    for index in range(0, each_list_lenght[0]):\n",
    "        \n",
    "        title_list.append(title_all[index].find(\"a\").get_text())\n",
    "        descriptions_list.append(descriptions[index].find('p').get_text().strip())\n",
    "        authors_list.append(authors[index].find(\"a\").get_text())\n",
    "        years_list.append(years_all[index].get_text().split(\",\")[1].strip())\n",
    "        months_list.append(months_all[index].get_text().split(\",\")[0].strip())\n",
    "        posts_link_list.append(all_posts_link[index].find(\"a\")[\"href\"])\n",
    "        images_link_list.append(all_images_link[index].find('img')['src'])\n",
    "        readMore_list_url.append(readMore_url[index].find(\"a\")['href'])\n",
    "             \n",
    "else:\n",
    "    print(\"sorry we have missing values\")"
   ]
  },
  {
   "cell_type": "markdown",
   "id": "79a37d95",
   "metadata": {},
   "source": [
    "# Create Pandas Dataframe"
   ]
  },
  {
   "cell_type": "code",
   "execution_count": 46,
   "id": "17765671",
   "metadata": {},
   "outputs": [
    {
     "data": {
      "text/html": [
       "<div>\n",
       "<style scoped>\n",
       "    .dataframe tbody tr th:only-of-type {\n",
       "        vertical-align: middle;\n",
       "    }\n",
       "\n",
       "    .dataframe tbody tr th {\n",
       "        vertical-align: top;\n",
       "    }\n",
       "\n",
       "    .dataframe thead th {\n",
       "        text-align: right;\n",
       "    }\n",
       "</style>\n",
       "<table border=\"1\" class=\"dataframe\">\n",
       "  <thead>\n",
       "    <tr style=\"text-align: right;\">\n",
       "      <th></th>\n",
       "      <th>titles</th>\n",
       "      <th>descriptions</th>\n",
       "      <th>authors</th>\n",
       "      <th>years</th>\n",
       "      <th>months</th>\n",
       "      <th>posts_link</th>\n",
       "      <th>images_link</th>\n",
       "    </tr>\n",
       "  </thead>\n",
       "  <tbody>\n",
       "    <tr>\n",
       "      <th>0</th>\n",
       "      <td>Python Tutorial :#2 Python Vs Java</td>\n",
       "      <td>As we know Python and Java, Both the languages...</td>\n",
       "      <td>Supriya</td>\n",
       "      <td>2022</td>\n",
       "      <td>Mar 10</td>\n",
       "      <td>https://www.opencodez.com/python/python-tutori...</td>\n",
       "      <td>https://www.opencodez.com/wp-content/uploads/2...</td>\n",
       "    </tr>\n",
       "    <tr>\n",
       "      <th>1</th>\n",
       "      <td>Python Tutorial : #1 Introduction to Python</td>\n",
       "      <td>Python is a most popular programming language ...</td>\n",
       "      <td>Supriya</td>\n",
       "      <td>2022</td>\n",
       "      <td>Feb 20</td>\n",
       "      <td>https://www.opencodez.com/python/python-tutori...</td>\n",
       "      <td>https://www.opencodez.com/wp-content/uploads/2...</td>\n",
       "    </tr>\n",
       "    <tr>\n",
       "      <th>2</th>\n",
       "      <td>Chain of Responsibility – Behavioral Design Pa...</td>\n",
       "      <td>The Chain of Responsibility Pattern comes unde...</td>\n",
       "      <td>Supriya</td>\n",
       "      <td>2020</td>\n",
       "      <td>Aug 1</td>\n",
       "      <td>https://www.opencodez.com/java/chain-of-respon...</td>\n",
       "      <td>https://www.opencodez.com/wp-content/uploads/2...</td>\n",
       "    </tr>\n",
       "    <tr>\n",
       "      <th>3</th>\n",
       "      <td>Flyweight Pattern – Structural Design Pattern</td>\n",
       "      <td>Flyweight pattern comes under Structural Desig...</td>\n",
       "      <td>Supriya</td>\n",
       "      <td>2020</td>\n",
       "      <td>May 20</td>\n",
       "      <td>https://www.opencodez.com/java/flyweight-patte...</td>\n",
       "      <td>https://www.opencodez.com/wp-content/uploads/2...</td>\n",
       "    </tr>\n",
       "    <tr>\n",
       "      <th>4</th>\n",
       "      <td>What Is Full Stack QA or Tester? 4 Steps Guide...</td>\n",
       "      <td>We have always heard the term full-stack devel...</td>\n",
       "      <td>Shilpa</td>\n",
       "      <td>2020</td>\n",
       "      <td>May 18</td>\n",
       "      <td>https://www.opencodez.com/software-testing/bec...</td>\n",
       "      <td>https://www.opencodez.com/wp-content/uploads/2...</td>\n",
       "    </tr>\n",
       "    <tr>\n",
       "      <th>5</th>\n",
       "      <td>Recession 2020 -7 Highly Effective Ways IT Pro...</td>\n",
       "      <td>Many say that another wave of Recession is app...</td>\n",
       "      <td>Shilpa</td>\n",
       "      <td>2020</td>\n",
       "      <td>Apr 27</td>\n",
       "      <td>https://www.opencodez.com/it-lifestyle/7-highl...</td>\n",
       "      <td>https://www.opencodez.com/wp-content/uploads/2...</td>\n",
       "    </tr>\n",
       "    <tr>\n",
       "      <th>6</th>\n",
       "      <td>10 Productivity Tips For Working From Home (WF...</td>\n",
       "      <td>It’s been more than 5 years, I am working from...</td>\n",
       "      <td>Shilpa</td>\n",
       "      <td>2020</td>\n",
       "      <td>Mar 30</td>\n",
       "      <td>https://www.opencodez.com/it-lifestyle/10-prod...</td>\n",
       "      <td>https://www.opencodez.com/wp-content/uploads/2...</td>\n",
       "    </tr>\n",
       "    <tr>\n",
       "      <th>7</th>\n",
       "      <td>Complete Step by Step Guide of Gherkin for Beg...</td>\n",
       "      <td>Gherkin is a plain English text language, used...</td>\n",
       "      <td>Pritam</td>\n",
       "      <td>2020</td>\n",
       "      <td>Mar 22</td>\n",
       "      <td>https://www.opencodez.com/software-testing/com...</td>\n",
       "      <td>https://www.opencodez.com/wp-content/uploads/2...</td>\n",
       "    </tr>\n",
       "    <tr>\n",
       "      <th>8</th>\n",
       "      <td>Top 8 Most Commonly asked HR Interview Questio...</td>\n",
       "      <td>There are some questions that are frequently a...</td>\n",
       "      <td>Shilpa</td>\n",
       "      <td>2020</td>\n",
       "      <td>Mar 21</td>\n",
       "      <td>https://www.opencodez.com/how-to-guide/the-8-m...</td>\n",
       "      <td>https://www.opencodez.com/wp-content/uploads/2...</td>\n",
       "    </tr>\n",
       "    <tr>\n",
       "      <th>9</th>\n",
       "      <td>7 Free Testing Artifacts / Deliverables Templa...</td>\n",
       "      <td>Testing Artifacts are deliverables or document...</td>\n",
       "      <td>Shilpa</td>\n",
       "      <td>2020</td>\n",
       "      <td>Mar 19</td>\n",
       "      <td>https://www.opencodez.com/software-testing/fre...</td>\n",
       "      <td>https://www.opencodez.com/wp-content/uploads/2...</td>\n",
       "    </tr>\n",
       "    <tr>\n",
       "      <th>10</th>\n",
       "      <td>What is Test Case (TC), Examples with Free Tem...</td>\n",
       "      <td>Test Case (TC) is the most important document ...</td>\n",
       "      <td>Shilpa</td>\n",
       "      <td>2020</td>\n",
       "      <td>Mar 16</td>\n",
       "      <td>https://www.opencodez.com/software-testing/tes...</td>\n",
       "      <td>https://www.opencodez.com/wp-content/uploads/2...</td>\n",
       "    </tr>\n",
       "    <tr>\n",
       "      <th>11</th>\n",
       "      <td>What is Test Data? Examples with Free Template...</td>\n",
       "      <td>Test data plays an important role in executing...</td>\n",
       "      <td>Shilpa</td>\n",
       "      <td>2020</td>\n",
       "      <td>Mar 12</td>\n",
       "      <td>https://www.opencodez.com/software-testing/tes...</td>\n",
       "      <td>https://www.opencodez.com/wp-content/uploads/2...</td>\n",
       "    </tr>\n",
       "    <tr>\n",
       "      <th>12</th>\n",
       "      <td>Python Tutorial :#2 Python Vs Java</td>\n",
       "      <td>As we know Python and Java, Both the languages...</td>\n",
       "      <td>Supriya</td>\n",
       "      <td>2022</td>\n",
       "      <td>Mar 10</td>\n",
       "      <td>https://www.opencodez.com/python/python-tutori...</td>\n",
       "      <td>https://www.opencodez.com/wp-content/uploads/2...</td>\n",
       "    </tr>\n",
       "    <tr>\n",
       "      <th>13</th>\n",
       "      <td>Python Tutorial : #1 Introduction to Python</td>\n",
       "      <td>Python is a most popular programming language ...</td>\n",
       "      <td>Supriya</td>\n",
       "      <td>2022</td>\n",
       "      <td>Feb 20</td>\n",
       "      <td>https://www.opencodez.com/python/python-tutori...</td>\n",
       "      <td>https://www.opencodez.com/wp-content/uploads/2...</td>\n",
       "    </tr>\n",
       "    <tr>\n",
       "      <th>14</th>\n",
       "      <td>Chain of Responsibility – Behavioral Design Pa...</td>\n",
       "      <td>The Chain of Responsibility Pattern comes unde...</td>\n",
       "      <td>Supriya</td>\n",
       "      <td>2020</td>\n",
       "      <td>Aug 1</td>\n",
       "      <td>https://www.opencodez.com/java/chain-of-respon...</td>\n",
       "      <td>https://www.opencodez.com/wp-content/uploads/2...</td>\n",
       "    </tr>\n",
       "    <tr>\n",
       "      <th>15</th>\n",
       "      <td>Flyweight Pattern – Structural Design Pattern</td>\n",
       "      <td>Flyweight pattern comes under Structural Desig...</td>\n",
       "      <td>Supriya</td>\n",
       "      <td>2020</td>\n",
       "      <td>May 20</td>\n",
       "      <td>https://www.opencodez.com/java/flyweight-patte...</td>\n",
       "      <td>https://www.opencodez.com/wp-content/uploads/2...</td>\n",
       "    </tr>\n",
       "    <tr>\n",
       "      <th>16</th>\n",
       "      <td>What Is Full Stack QA or Tester? 4 Steps Guide...</td>\n",
       "      <td>We have always heard the term full-stack devel...</td>\n",
       "      <td>Shilpa</td>\n",
       "      <td>2020</td>\n",
       "      <td>May 18</td>\n",
       "      <td>https://www.opencodez.com/software-testing/bec...</td>\n",
       "      <td>https://www.opencodez.com/wp-content/uploads/2...</td>\n",
       "    </tr>\n",
       "    <tr>\n",
       "      <th>17</th>\n",
       "      <td>Recession 2020 -7 Highly Effective Ways IT Pro...</td>\n",
       "      <td>Many say that another wave of Recession is app...</td>\n",
       "      <td>Shilpa</td>\n",
       "      <td>2020</td>\n",
       "      <td>Apr 27</td>\n",
       "      <td>https://www.opencodez.com/it-lifestyle/7-highl...</td>\n",
       "      <td>https://www.opencodez.com/wp-content/uploads/2...</td>\n",
       "    </tr>\n",
       "    <tr>\n",
       "      <th>18</th>\n",
       "      <td>10 Productivity Tips For Working From Home (WF...</td>\n",
       "      <td>It’s been more than 5 years, I am working from...</td>\n",
       "      <td>Shilpa</td>\n",
       "      <td>2020</td>\n",
       "      <td>Mar 30</td>\n",
       "      <td>https://www.opencodez.com/it-lifestyle/10-prod...</td>\n",
       "      <td>https://www.opencodez.com/wp-content/uploads/2...</td>\n",
       "    </tr>\n",
       "    <tr>\n",
       "      <th>19</th>\n",
       "      <td>Complete Step by Step Guide of Gherkin for Beg...</td>\n",
       "      <td>Gherkin is a plain English text language, used...</td>\n",
       "      <td>Pritam</td>\n",
       "      <td>2020</td>\n",
       "      <td>Mar 22</td>\n",
       "      <td>https://www.opencodez.com/software-testing/com...</td>\n",
       "      <td>https://www.opencodez.com/wp-content/uploads/2...</td>\n",
       "    </tr>\n",
       "    <tr>\n",
       "      <th>20</th>\n",
       "      <td>Top 8 Most Commonly asked HR Interview Questio...</td>\n",
       "      <td>There are some questions that are frequently a...</td>\n",
       "      <td>Shilpa</td>\n",
       "      <td>2020</td>\n",
       "      <td>Mar 21</td>\n",
       "      <td>https://www.opencodez.com/how-to-guide/the-8-m...</td>\n",
       "      <td>https://www.opencodez.com/wp-content/uploads/2...</td>\n",
       "    </tr>\n",
       "    <tr>\n",
       "      <th>21</th>\n",
       "      <td>7 Free Testing Artifacts / Deliverables Templa...</td>\n",
       "      <td>Testing Artifacts are deliverables or document...</td>\n",
       "      <td>Shilpa</td>\n",
       "      <td>2020</td>\n",
       "      <td>Mar 19</td>\n",
       "      <td>https://www.opencodez.com/software-testing/fre...</td>\n",
       "      <td>https://www.opencodez.com/wp-content/uploads/2...</td>\n",
       "    </tr>\n",
       "    <tr>\n",
       "      <th>22</th>\n",
       "      <td>What is Test Case (TC), Examples with Free Tem...</td>\n",
       "      <td>Test Case (TC) is the most important document ...</td>\n",
       "      <td>Shilpa</td>\n",
       "      <td>2020</td>\n",
       "      <td>Mar 16</td>\n",
       "      <td>https://www.opencodez.com/software-testing/tes...</td>\n",
       "      <td>https://www.opencodez.com/wp-content/uploads/2...</td>\n",
       "    </tr>\n",
       "    <tr>\n",
       "      <th>23</th>\n",
       "      <td>What is Test Data? Examples with Free Template...</td>\n",
       "      <td>Test data plays an important role in executing...</td>\n",
       "      <td>Shilpa</td>\n",
       "      <td>2020</td>\n",
       "      <td>Mar 12</td>\n",
       "      <td>https://www.opencodez.com/software-testing/tes...</td>\n",
       "      <td>https://www.opencodez.com/wp-content/uploads/2...</td>\n",
       "    </tr>\n",
       "  </tbody>\n",
       "</table>\n",
       "</div>"
      ],
      "text/plain": [
       "                                               titles  \\\n",
       "0                  Python Tutorial :#2 Python Vs Java   \n",
       "1         Python Tutorial : #1 Introduction to Python   \n",
       "2   Chain of Responsibility – Behavioral Design Pa...   \n",
       "3       Flyweight Pattern – Structural Design Pattern   \n",
       "4   What Is Full Stack QA or Tester? 4 Steps Guide...   \n",
       "5   Recession 2020 -7 Highly Effective Ways IT Pro...   \n",
       "6   10 Productivity Tips For Working From Home (WF...   \n",
       "7   Complete Step by Step Guide of Gherkin for Beg...   \n",
       "8   Top 8 Most Commonly asked HR Interview Questio...   \n",
       "9   7 Free Testing Artifacts / Deliverables Templa...   \n",
       "10  What is Test Case (TC), Examples with Free Tem...   \n",
       "11  What is Test Data? Examples with Free Template...   \n",
       "12                 Python Tutorial :#2 Python Vs Java   \n",
       "13        Python Tutorial : #1 Introduction to Python   \n",
       "14  Chain of Responsibility – Behavioral Design Pa...   \n",
       "15      Flyweight Pattern – Structural Design Pattern   \n",
       "16  What Is Full Stack QA or Tester? 4 Steps Guide...   \n",
       "17  Recession 2020 -7 Highly Effective Ways IT Pro...   \n",
       "18  10 Productivity Tips For Working From Home (WF...   \n",
       "19  Complete Step by Step Guide of Gherkin for Beg...   \n",
       "20  Top 8 Most Commonly asked HR Interview Questio...   \n",
       "21  7 Free Testing Artifacts / Deliverables Templa...   \n",
       "22  What is Test Case (TC), Examples with Free Tem...   \n",
       "23  What is Test Data? Examples with Free Template...   \n",
       "\n",
       "                                         descriptions  authors years  months  \\\n",
       "0   As we know Python and Java, Both the languages...  Supriya  2022  Mar 10   \n",
       "1   Python is a most popular programming language ...  Supriya  2022  Feb 20   \n",
       "2   The Chain of Responsibility Pattern comes unde...  Supriya  2020   Aug 1   \n",
       "3   Flyweight pattern comes under Structural Desig...  Supriya  2020  May 20   \n",
       "4   We have always heard the term full-stack devel...   Shilpa  2020  May 18   \n",
       "5   Many say that another wave of Recession is app...   Shilpa  2020  Apr 27   \n",
       "6   It’s been more than 5 years, I am working from...   Shilpa  2020  Mar 30   \n",
       "7   Gherkin is a plain English text language, used...   Pritam  2020  Mar 22   \n",
       "8   There are some questions that are frequently a...   Shilpa  2020  Mar 21   \n",
       "9   Testing Artifacts are deliverables or document...   Shilpa  2020  Mar 19   \n",
       "10  Test Case (TC) is the most important document ...   Shilpa  2020  Mar 16   \n",
       "11  Test data plays an important role in executing...   Shilpa  2020  Mar 12   \n",
       "12  As we know Python and Java, Both the languages...  Supriya  2022  Mar 10   \n",
       "13  Python is a most popular programming language ...  Supriya  2022  Feb 20   \n",
       "14  The Chain of Responsibility Pattern comes unde...  Supriya  2020   Aug 1   \n",
       "15  Flyweight pattern comes under Structural Desig...  Supriya  2020  May 20   \n",
       "16  We have always heard the term full-stack devel...   Shilpa  2020  May 18   \n",
       "17  Many say that another wave of Recession is app...   Shilpa  2020  Apr 27   \n",
       "18  It’s been more than 5 years, I am working from...   Shilpa  2020  Mar 30   \n",
       "19  Gherkin is a plain English text language, used...   Pritam  2020  Mar 22   \n",
       "20  There are some questions that are frequently a...   Shilpa  2020  Mar 21   \n",
       "21  Testing Artifacts are deliverables or document...   Shilpa  2020  Mar 19   \n",
       "22  Test Case (TC) is the most important document ...   Shilpa  2020  Mar 16   \n",
       "23  Test data plays an important role in executing...   Shilpa  2020  Mar 12   \n",
       "\n",
       "                                           posts_link  \\\n",
       "0   https://www.opencodez.com/python/python-tutori...   \n",
       "1   https://www.opencodez.com/python/python-tutori...   \n",
       "2   https://www.opencodez.com/java/chain-of-respon...   \n",
       "3   https://www.opencodez.com/java/flyweight-patte...   \n",
       "4   https://www.opencodez.com/software-testing/bec...   \n",
       "5   https://www.opencodez.com/it-lifestyle/7-highl...   \n",
       "6   https://www.opencodez.com/it-lifestyle/10-prod...   \n",
       "7   https://www.opencodez.com/software-testing/com...   \n",
       "8   https://www.opencodez.com/how-to-guide/the-8-m...   \n",
       "9   https://www.opencodez.com/software-testing/fre...   \n",
       "10  https://www.opencodez.com/software-testing/tes...   \n",
       "11  https://www.opencodez.com/software-testing/tes...   \n",
       "12  https://www.opencodez.com/python/python-tutori...   \n",
       "13  https://www.opencodez.com/python/python-tutori...   \n",
       "14  https://www.opencodez.com/java/chain-of-respon...   \n",
       "15  https://www.opencodez.com/java/flyweight-patte...   \n",
       "16  https://www.opencodez.com/software-testing/bec...   \n",
       "17  https://www.opencodez.com/it-lifestyle/7-highl...   \n",
       "18  https://www.opencodez.com/it-lifestyle/10-prod...   \n",
       "19  https://www.opencodez.com/software-testing/com...   \n",
       "20  https://www.opencodez.com/how-to-guide/the-8-m...   \n",
       "21  https://www.opencodez.com/software-testing/fre...   \n",
       "22  https://www.opencodez.com/software-testing/tes...   \n",
       "23  https://www.opencodez.com/software-testing/tes...   \n",
       "\n",
       "                                          images_link  \n",
       "0   https://www.opencodez.com/wp-content/uploads/2...  \n",
       "1   https://www.opencodez.com/wp-content/uploads/2...  \n",
       "2   https://www.opencodez.com/wp-content/uploads/2...  \n",
       "3   https://www.opencodez.com/wp-content/uploads/2...  \n",
       "4   https://www.opencodez.com/wp-content/uploads/2...  \n",
       "5   https://www.opencodez.com/wp-content/uploads/2...  \n",
       "6   https://www.opencodez.com/wp-content/uploads/2...  \n",
       "7   https://www.opencodez.com/wp-content/uploads/2...  \n",
       "8   https://www.opencodez.com/wp-content/uploads/2...  \n",
       "9   https://www.opencodez.com/wp-content/uploads/2...  \n",
       "10  https://www.opencodez.com/wp-content/uploads/2...  \n",
       "11  https://www.opencodez.com/wp-content/uploads/2...  \n",
       "12  https://www.opencodez.com/wp-content/uploads/2...  \n",
       "13  https://www.opencodez.com/wp-content/uploads/2...  \n",
       "14  https://www.opencodez.com/wp-content/uploads/2...  \n",
       "15  https://www.opencodez.com/wp-content/uploads/2...  \n",
       "16  https://www.opencodez.com/wp-content/uploads/2...  \n",
       "17  https://www.opencodez.com/wp-content/uploads/2...  \n",
       "18  https://www.opencodez.com/wp-content/uploads/2...  \n",
       "19  https://www.opencodez.com/wp-content/uploads/2...  \n",
       "20  https://www.opencodez.com/wp-content/uploads/2...  \n",
       "21  https://www.opencodez.com/wp-content/uploads/2...  \n",
       "22  https://www.opencodez.com/wp-content/uploads/2...  \n",
       "23  https://www.opencodez.com/wp-content/uploads/2...  "
      ]
     },
     "execution_count": 46,
     "metadata": {},
     "output_type": "execute_result"
    }
   ],
   "source": [
    "df = pd.DataFrame(list(zip(title_list, descriptions_list, authors_list, years_list, months_list,posts_link_list,\n",
    "                           images_link_list)), columns=[\"titles\",\"descriptions\",\"authors\",\"years\",\"months\",\n",
    "                                                        \"posts_link\",\"images_link\"])\n",
    "df"
   ]
  }
 ],
 "metadata": {
  "kernelspec": {
   "display_name": "Python 3 (ipykernel)",
   "language": "python",
   "name": "python3"
  },
  "language_info": {
   "codemirror_mode": {
    "name": "ipython",
    "version": 3
   },
   "file_extension": ".py",
   "mimetype": "text/x-python",
   "name": "python",
   "nbconvert_exporter": "python",
   "pygments_lexer": "ipython3",
   "version": "3.11.2"
  }
 },
 "nbformat": 4,
 "nbformat_minor": 5
}
