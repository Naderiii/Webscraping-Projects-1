{
 "cells": [
  {
   "cell_type": "markdown",
   "id": "c38c6b96",
   "metadata": {},
   "source": [
    "# Import the required libraries"
   ]
  },
  {
   "cell_type": "code",
   "execution_count": 1,
   "id": "4cdfefd9",
   "metadata": {},
   "outputs": [],
   "source": [
    "from bs4 import BeautifulSoup\n",
    "import requests\n",
    "import pandas as pd"
   ]
  },
  {
   "cell_type": "markdown",
   "id": "37d58117",
   "metadata": {},
   "source": [
    "# HTTP request"
   ]
  },
  {
   "cell_type": "markdown",
   "id": "b4f799a3",
   "metadata": {},
   "source": [
    "### Store website url in a variable"
   ]
  },
  {
   "cell_type": "code",
   "execution_count": 2,
   "id": "4c5af326",
   "metadata": {},
   "outputs": [],
   "source": [
    "url = \"https://www.opencodez.com/\""
   ]
  },
  {
   "cell_type": "markdown",
   "id": "95ffdd33",
   "metadata": {},
   "source": [
    "### Get request"
   ]
  },
  {
   "cell_type": "code",
   "execution_count": 3,
   "id": "76f7897b",
   "metadata": {},
   "outputs": [],
   "source": [
    "response = requests.get(url)"
   ]
  },
  {
   "cell_type": "markdown",
   "id": "992a063b",
   "metadata": {},
   "source": [
    "### Check status code"
   ]
  },
  {
   "cell_type": "code",
   "execution_count": 4,
   "id": "cbf4e47e",
   "metadata": {},
   "outputs": [
    {
     "data": {
      "text/plain": [
       "200"
      ]
     },
     "execution_count": 4,
     "metadata": {},
     "output_type": "execute_result"
    }
   ],
   "source": [
    "response.status_code"
   ]
  },
  {
   "cell_type": "markdown",
   "id": "de61cf07",
   "metadata": {},
   "source": [
    "# BeautifulSoup Object"
   ]
  },
  {
   "cell_type": "code",
   "execution_count": 5,
   "id": "042fa5f0",
   "metadata": {},
   "outputs": [],
   "source": [
    "bs = BeautifulSoup(response.content, \"html.parser\")\n",
    "# bs"
   ]
  },
  {
   "cell_type": "markdown",
   "id": "cf1a816f",
   "metadata": {},
   "source": [
    "# Results"
   ]
  },
  {
   "cell_type": "code",
   "execution_count": 6,
   "id": "2288b693",
   "metadata": {},
   "outputs": [],
   "source": [
    "latest_post = bs.find(\"div\" , attrs = {\"class\":\"latest-section\"})\n",
    "# latest_post"
   ]
  },
  {
   "cell_type": "markdown",
   "id": "03afa0b0",
   "metadata": {},
   "source": [
    "### Extract data from one post"
   ]
  },
  {
   "cell_type": "code",
   "execution_count": 12,
   "id": "cc565343",
   "metadata": {},
   "outputs": [
    {
     "data": {
      "text/plain": [
       "'Python Tutorial :#2 Python Vs Java'"
      ]
     },
     "execution_count": 12,
     "metadata": {},
     "output_type": "execute_result"
    }
   ],
   "source": [
    "title = latest_post.find(\"h2\" , attrs = {\"class\" : \"title\"}).find(\"a\").get_text()\n",
    "title"
   ]
  },
  {
   "cell_type": "code",
   "execution_count": 17,
   "id": "712c5335",
   "metadata": {},
   "outputs": [
    {
     "data": {
      "text/plain": [
       "'As we know Python and Java, Both the languages are powerful and both the languages provide many great frameworks. But the question is when to use which language? So, in'"
      ]
     },
     "execution_count": 17,
     "metadata": {},
     "output_type": "execute_result"
    }
   ],
   "source": [
    "description = latest_post.find(\"div\" , attrs = {\"class\" : \"post-content image-caption-format-1\"}).find(\"p\").get_text().strip()\n",
    "description"
   ]
  },
  {
   "cell_type": "code",
   "execution_count": 26,
   "id": "f73964ee",
   "metadata": {},
   "outputs": [
    {
     "data": {
      "text/plain": [
       "'Supriya'"
      ]
     },
     "execution_count": 26,
     "metadata": {},
     "output_type": "execute_result"
    }
   ],
   "source": [
    "author = latest_post.find(\"span\" , attrs= {\"class\":\"theauthor\"}).find(\"a\").get_text()\n",
    "author"
   ]
  },
  {
   "cell_type": "code",
   "execution_count": 28,
   "id": "2c9a2532",
   "metadata": {},
   "outputs": [
    {
     "data": {
      "text/plain": [
       "'Mar 10, 2022'"
      ]
     },
     "execution_count": 28,
     "metadata": {},
     "output_type": "execute_result"
    }
   ],
   "source": [
    "time = latest_post.find(\"span\" , attrs= {\"class\":\"thetime\"}).get_text().strip()\n",
    "time"
   ]
  },
  {
   "cell_type": "code",
   "execution_count": 33,
   "id": "89aa29ce",
   "metadata": {},
   "outputs": [
    {
     "data": {
      "text/plain": [
       "'Mar 10'"
      ]
     },
     "execution_count": 33,
     "metadata": {},
     "output_type": "execute_result"
    }
   ],
   "source": [
    "date = time.split(\",\")[0]\n",
    "year = time.split(\",\")[1].strip()\n",
    "date"
   ]
  },
  {
   "cell_type": "code",
   "execution_count": 34,
   "id": "aa65eecc",
   "metadata": {},
   "outputs": [
    {
     "data": {
      "text/plain": [
       "'2022'"
      ]
     },
     "execution_count": 34,
     "metadata": {},
     "output_type": "execute_result"
    }
   ],
   "source": [
    "year"
   ]
  },
  {
   "cell_type": "code",
   "execution_count": 38,
   "id": "5a90e348",
   "metadata": {},
   "outputs": [
    {
     "data": {
      "text/plain": [
       "'https://www.opencodez.com/python/python-tutorial-2-python-vs-java.htm'"
      ]
     },
     "execution_count": 38,
     "metadata": {},
     "output_type": "execute_result"
    }
   ],
   "source": [
    "post_link = latest_post.find(\"h2\" , attrs= {\"class\":\"title\"}).find(\"a\")['href']\n",
    "post_link"
   ]
  },
  {
   "cell_type": "code",
   "execution_count": 41,
   "id": "b5e6ba43",
   "metadata": {},
   "outputs": [
    {
     "data": {
      "text/plain": [
       "'https://www.opencodez.com/wp-content/uploads/2022/03/python-vs-java-150x100.png'"
      ]
     },
     "execution_count": 41,
     "metadata": {},
     "output_type": "execute_result"
    }
   ],
   "source": [
    "post_image_link = latest_post.find(\"div\", attrs = {\"class\" : \"featured-thumbnail\"}).find(\"img\")['src']\n",
    "post_image_link"
   ]
  },
  {
   "cell_type": "markdown",
   "id": "73089c1f",
   "metadata": {},
   "source": []
  },
  {
   "cell_type": "code",
   "execution_count": null,
   "id": "479f2397",
   "metadata": {},
   "outputs": [],
   "source": []
  }
 ],
 "metadata": {
  "kernelspec": {
   "display_name": "Python 3 (ipykernel)",
   "language": "python",
   "name": "python3"
  },
  "language_info": {
   "codemirror_mode": {
    "name": "ipython",
    "version": 3
   },
   "file_extension": ".py",
   "mimetype": "text/x-python",
   "name": "python",
   "nbconvert_exporter": "python",
   "pygments_lexer": "ipython3",
   "version": "3.11.2"
  }
 },
 "nbformat": 4,
 "nbformat_minor": 5
}
