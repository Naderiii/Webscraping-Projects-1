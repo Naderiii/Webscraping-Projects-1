{
 "cells": [
  {
   "cell_type": "markdown",
   "id": "6c8854fb",
   "metadata": {},
   "source": [
    "# Import the required libraries and modules"
   ]
  },
  {
   "cell_type": "code",
   "execution_count": 1,
   "id": "10062467",
   "metadata": {},
   "outputs": [],
   "source": [
    "from selenium import webdriver\n",
    "from selenium.webdriver.common.by import By\n",
    "from selenium.webdriver.chrome.service import Service\n",
    "\n",
    "from selenium.webdriver.support.ui import WebDriverWait\n",
    "from selenium.webdriver.support import expected_conditions as EC\n",
    "\n",
    "import pandas as pd\n",
    "import time"
   ]
  },
  {
   "cell_type": "markdown",
   "id": "a457537c",
   "metadata": {},
   "source": [
    "# Setup and Start"
   ]
  },
  {
   "cell_type": "code",
   "execution_count": 10,
   "id": "420068d3",
   "metadata": {},
   "outputs": [],
   "source": [
    "\n",
    "start_time = time.time()\n",
    "url = \"https://www.yelp.com/\"\n",
    "s = Service(\"chromedriver-win32/chromedriver\")\n",
    "\n",
    "driver = webdriver.Chrome(service = s)\n",
    "driver.get(url)\n",
    "time.sleep(3)\n"
   ]
  },
  {
   "cell_type": "code",
   "execution_count": 11,
   "id": "b88d506d",
   "metadata": {},
   "outputs": [],
   "source": [
    "# wait until show cookies and accept it\n",
    "\n",
    "WebDriverWait(driver, 10).until(EC.element_to_be_clickable((By.ID, \"onetrust-accept-btn-handler\"))).click()\n"
   ]
  },
  {
   "cell_type": "markdown",
   "id": "ea33da43",
   "metadata": {},
   "source": [
    "# Search about Resturant"
   ]
  },
  {
   "cell_type": "code",
   "execution_count": 12,
   "id": "020b78e8",
   "metadata": {},
   "outputs": [],
   "source": [
    "\n",
    "find_section = driver.find_element(By.ID, value = 'search_description')\n",
    "find_section.click()\n",
    "find_section.send_keys('Restaurants')\n"
   ]
  },
  {
   "cell_type": "code",
   "execution_count": 13,
   "id": "a87b1d3d",
   "metadata": {},
   "outputs": [],
   "source": [
    "\n",
    "search_button = driver.find_element(By.XPATH, value = '//button[@class =  \"find-near-button__09f24__cN8vv css-1vg9j2\"]')\n",
    "search_button.click()\n",
    "# time.sleep(3)\n"
   ]
  },
  {
   "cell_type": "code",
   "execution_count": 14,
   "id": "3652b5a4",
   "metadata": {},
   "outputs": [],
   "source": [
    "# wait until show cookies and accept it\n",
    "\n",
    "# WebDriverWait(driver, 10).until(EC.element_to_be_clickable((By.ID, \"onetrust-accept-btn-handler\"))).click()\n"
   ]
  },
  {
   "cell_type": "markdown",
   "id": "38ad5e97",
   "metadata": {},
   "source": [
    "# Find Data"
   ]
  },
  {
   "cell_type": "code",
   "execution_count": 27,
   "id": "c98a527e",
   "metadata": {},
   "outputs": [
    {
     "name": "stdout",
     "output_type": "stream",
     "text": [
      "How long does it take to scrape the whole webpage? 1132.2859783172607 seconds\n"
     ]
    }
   ],
   "source": [
    "data = []\n",
    "\n",
    "while True:\n",
    "    try:\n",
    "        all_items = driver.find_elements(By.XPATH, value = '//div[@class =\"  padding-t3__09f24__TMrIW padding-r3__09f24__eaF7p padding-b3__09f24__S8R2d padding-l3__09f24__IOjKY border-color--default__09f24__NPAKY\"]')\n",
    "        for item in all_items:\n",
    "            try:\n",
    "                name = item.find_element(By.XPATH, value = './/a[@class =\"css-19v1rkv\"]').text\n",
    "            except:\n",
    "                name = 'Unknown'\n",
    "\n",
    "            try:\n",
    "                location = item.find_element(By.XPATH, value = \".//p[@class='css-dzq7l1']/span[@class = ' css-chan6m']\").text\n",
    "                if location == \"\":\n",
    "                    location = \"Unknown\"\n",
    "            except:\n",
    "                location = 'Unknown'\n",
    "\n",
    "            try:\n",
    "                review_counts = item.find_element(By.XPATH, value = \".//div[@class=' display--inline-block__09f24__fEDiJ  border-color--default__09f24__NPAKY']/span[@class = ' css-chan6m']\").text\n",
    "            except:\n",
    "                review_counts = -1\n",
    "\n",
    "            try:\n",
    "                stars = item.find_element(By.XPATH, value = \".//div[@class = ' five-stars__09f24__mBKym five-stars--regular__09f24__DgBNj display--inline-block__09f24__fEDiJ  border-color--default__09f24__NPAKY']\")\n",
    "                stars_number = stars.get_attribute('aria-label').split(' ')[0]\n",
    "            except:\n",
    "                stars_number = -1\n",
    "\n",
    "            data.append([name, location, int(review_counts), float(stars_number)])\n",
    "        \n",
    "        next_page = driver.find_element(By.XPATH, value = \"//a[@class = 'next-link navigation-button__09f24__m9qRz css-ahgoya']\")\n",
    "        next_page.click()\n",
    "#         driver.execute_script(\"arguments[0].click();\", next_page)\n",
    "        time.sleep(3)\n",
    "            \n",
    "    except:\n",
    "        break\n",
    "        \n",
    "print('How long does it take to scrape the whole webpage? {} seconds'.format(time.time() - start_time))"
   ]
  },
  {
   "cell_type": "code",
   "execution_count": 28,
   "id": "8ad61f68",
   "metadata": {},
   "outputs": [
    {
     "data": {
      "text/plain": [
       "[['Teakwood', 'Hayes Valley', 23, 4.5],\n",
       " ['Marufuku Ramen', 'Japantown', 4685, 4.5],\n",
       " ['Bottega', 'Mission', 794, 4.5],\n",
       " ['Mattina', 'Lower Pacific Heights', 39, 4.0],\n",
       " ['Otra', 'Lower Haight', 145, 4.5],\n",
       " ['Beit Rima', 'Cole Valley', 265, 4.5],\n",
       " ['C.Q. Noodles', 'Outer Richmond', 85, 4.5],\n",
       " ['Fog Harbor Fish House', \"Fisherman's Wharf\", 9526, 4.5],\n",
       " ['Dumpling House', 'Castro', 455, 4.5],\n",
       " ['Starbelly', 'Castro', 2259, 4.0],\n",
       " ['JIJIME', 'Outer Richmond', 577, 4.5],\n",
       " ['Blind Butcher', 'Castro', 248, 4.0],\n",
       " ['Santeria', 'Castro', 284, 4.5],\n",
       " ['The Tailor’s Son', 'Lower Pacific Heights', 439, 4.0],\n",
       " ['Katsuo + Kombu', 'NoPa', 19, 4.5],\n",
       " ['Ushi Taro Ramen', 'Inner Sunset', 508, 4.5],\n",
       " ['KAIYŌ Rooftop', 'South Beach', 629, 4.0],\n",
       " ['Tanglad', 'Castro', 251, 4.5],\n",
       " ['Daeho Kalbijjim & Beef Soup', 'Japantown', 1782, 4.5],\n",
       " ['Fable', 'Castro', 811, 4.0]]"
      ]
     },
     "execution_count": 28,
     "metadata": {},
     "output_type": "execute_result"
    }
   ],
   "source": [
    "data"
   ]
  },
  {
   "cell_type": "code",
   "execution_count": 29,
   "id": "0168da59",
   "metadata": {},
   "outputs": [
    {
     "data": {
      "text/plain": [
       "20"
      ]
     },
     "execution_count": 29,
     "metadata": {},
     "output_type": "execute_result"
    }
   ],
   "source": [
    "len(data)"
   ]
  },
  {
   "cell_type": "markdown",
   "id": "fde0e981",
   "metadata": {},
   "source": [
    "# Create Pandas Dataframe"
   ]
  },
  {
   "cell_type": "code",
   "execution_count": null,
   "id": "21a1ae0f",
   "metadata": {},
   "outputs": [],
   "source": [
    "df = pd.DataFrame(data, columns = ['Name', 'Location', 'ReviewCounts', 'StarsNumber'])\n",
    "df"
   ]
  },
  {
   "cell_type": "code",
   "execution_count": null,
   "id": "3b20d505",
   "metadata": {},
   "outputs": [],
   "source": [
    "df.to_csv(\"Resturant_data\", index=False)"
   ]
  }
 ],
 "metadata": {
  "kernelspec": {
   "display_name": "Python 3 (ipykernel)",
   "language": "python",
   "name": "python3"
  },
  "language_info": {
   "codemirror_mode": {
    "name": "ipython",
    "version": 3
   },
   "file_extension": ".py",
   "mimetype": "text/x-python",
   "name": "python",
   "nbconvert_exporter": "python",
   "pygments_lexer": "ipython3",
   "version": "3.11.2"
  }
 },
 "nbformat": 4,
 "nbformat_minor": 5
}
