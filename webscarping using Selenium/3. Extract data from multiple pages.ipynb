{
 "cells": [
  {
   "cell_type": "markdown",
   "id": "6c8854fb",
   "metadata": {},
   "source": [
    "# Import the required libraries and modules"
   ]
  },
  {
   "cell_type": "code",
   "execution_count": 1,
   "id": "10062467",
   "metadata": {},
   "outputs": [],
   "source": [
    "from selenium import webdriver\n",
    "from selenium.webdriver.common.by import By\n",
    "from selenium.webdriver.chrome.service import Service\n",
    "\n",
    "from selenium.webdriver.support.ui import WebDriverWait\n",
    "from selenium.webdriver.support import expected_conditions as EC\n",
    "\n",
    "import pandas as pd\n",
    "import time"
   ]
  },
  {
   "cell_type": "markdown",
   "id": "a457537c",
   "metadata": {},
   "source": [
    "# Setup and Start"
   ]
  },
  {
   "cell_type": "code",
   "execution_count": 2,
   "id": "420068d3",
   "metadata": {},
   "outputs": [],
   "source": [
    "\n",
    "start_time = time.time()\n",
    "url = \"https://www.yelp.com/\"\n",
    "s = Service(\"chromedriver-win32/chromedriver\")\n",
    "\n",
    "driver = webdriver.Chrome(service = s)\n",
    "driver.get(url)\n",
    "time.sleep(3)\n"
   ]
  },
  {
   "cell_type": "code",
   "execution_count": 3,
   "id": "b88d506d",
   "metadata": {},
   "outputs": [],
   "source": [
    "# wait until show cookies and accept it\n",
    "\n",
    "# WebDriverWait(driver, 10).until(EC.element_to_be_clickable((By.ID, \"onetrust-accept-btn-handler\"))).click()\n"
   ]
  },
  {
   "cell_type": "markdown",
   "id": "ea33da43",
   "metadata": {},
   "source": [
    "# Search about Resturant"
   ]
  },
  {
   "cell_type": "code",
   "execution_count": 4,
   "id": "020b78e8",
   "metadata": {},
   "outputs": [
    {
     "ename": "NoSuchElementException",
     "evalue": "Message: no such element: Unable to locate element: {\"method\":\"css selector\",\"selector\":\"[id=\"search_description\"]\"}\n  (Session info: chrome=114.0.5735.199); For documentation on this error, please visit: https://www.selenium.dev/documentation/webdriver/troubleshooting/errors#no-such-element-exception\nStacktrace:\nBacktrace:\n\tGetHandleVerifier [0x0107A813+48355]\n\t(No symbol) [0x0100C4B1]\n\t(No symbol) [0x00F15358]\n\t(No symbol) [0x00F409A5]\n\t(No symbol) [0x00F40B3B]\n\t(No symbol) [0x00F6E232]\n\t(No symbol) [0x00F5A784]\n\t(No symbol) [0x00F6C922]\n\t(No symbol) [0x00F5A536]\n\t(No symbol) [0x00F382DC]\n\t(No symbol) [0x00F393DD]\n\tGetHandleVerifier [0x012DAABD+2539405]\n\tGetHandleVerifier [0x0131A78F+2800735]\n\tGetHandleVerifier [0x0131456C+2775612]\n\tGetHandleVerifier [0x011051E0+616112]\n\t(No symbol) [0x01015F8C]\n\t(No symbol) [0x01012328]\n\t(No symbol) [0x0101240B]\n\t(No symbol) [0x01004FF7]\n\tBaseThreadInitThunk [0x76716BA9+25]\n\tRtlGetFullPathName_UEx [0x77438F9F+1215]\n\tRtlGetFullPathName_UEx [0x77438F6D+1165]\n",
     "output_type": "error",
     "traceback": [
      "\u001b[1;31m---------------------------------------------------------------------------\u001b[0m",
      "\u001b[1;31mNoSuchElementException\u001b[0m                    Traceback (most recent call last)",
      "Cell \u001b[1;32mIn[4], line 1\u001b[0m\n\u001b[1;32m----> 1\u001b[0m find_section \u001b[38;5;241m=\u001b[39m \u001b[43mdriver\u001b[49m\u001b[38;5;241;43m.\u001b[39;49m\u001b[43mfind_element\u001b[49m\u001b[43m(\u001b[49m\u001b[43mBy\u001b[49m\u001b[38;5;241;43m.\u001b[39;49m\u001b[43mID\u001b[49m\u001b[43m,\u001b[49m\u001b[43m \u001b[49m\u001b[43mvalue\u001b[49m\u001b[43m \u001b[49m\u001b[38;5;241;43m=\u001b[39;49m\u001b[43m \u001b[49m\u001b[38;5;124;43m'\u001b[39;49m\u001b[38;5;124;43msearch_description\u001b[39;49m\u001b[38;5;124;43m'\u001b[39;49m\u001b[43m)\u001b[49m\n\u001b[0;32m      2\u001b[0m find_section\u001b[38;5;241m.\u001b[39mclick()\n\u001b[0;32m      3\u001b[0m find_section\u001b[38;5;241m.\u001b[39msend_keys(\u001b[38;5;124m'\u001b[39m\u001b[38;5;124mRestaurants\u001b[39m\u001b[38;5;124m'\u001b[39m)\n",
      "File \u001b[1;32m~\\AppData\\Local\\Programs\\Python\\Python311\\Lib\\site-packages\\selenium\\webdriver\\remote\\webdriver.py:740\u001b[0m, in \u001b[0;36mWebDriver.find_element\u001b[1;34m(self, by, value)\u001b[0m\n\u001b[0;32m    737\u001b[0m     by \u001b[38;5;241m=\u001b[39m By\u001b[38;5;241m.\u001b[39mCSS_SELECTOR\n\u001b[0;32m    738\u001b[0m     value \u001b[38;5;241m=\u001b[39m \u001b[38;5;124mf\u001b[39m\u001b[38;5;124m'\u001b[39m\u001b[38;5;124m[name=\u001b[39m\u001b[38;5;124m\"\u001b[39m\u001b[38;5;132;01m{\u001b[39;00mvalue\u001b[38;5;132;01m}\u001b[39;00m\u001b[38;5;124m\"\u001b[39m\u001b[38;5;124m]\u001b[39m\u001b[38;5;124m'\u001b[39m\n\u001b[1;32m--> 740\u001b[0m \u001b[38;5;28;01mreturn\u001b[39;00m \u001b[38;5;28;43mself\u001b[39;49m\u001b[38;5;241;43m.\u001b[39;49m\u001b[43mexecute\u001b[49m\u001b[43m(\u001b[49m\u001b[43mCommand\u001b[49m\u001b[38;5;241;43m.\u001b[39;49m\u001b[43mFIND_ELEMENT\u001b[49m\u001b[43m,\u001b[49m\u001b[43m \u001b[49m\u001b[43m{\u001b[49m\u001b[38;5;124;43m\"\u001b[39;49m\u001b[38;5;124;43musing\u001b[39;49m\u001b[38;5;124;43m\"\u001b[39;49m\u001b[43m:\u001b[49m\u001b[43m \u001b[49m\u001b[43mby\u001b[49m\u001b[43m,\u001b[49m\u001b[43m \u001b[49m\u001b[38;5;124;43m\"\u001b[39;49m\u001b[38;5;124;43mvalue\u001b[39;49m\u001b[38;5;124;43m\"\u001b[39;49m\u001b[43m:\u001b[49m\u001b[43m \u001b[49m\u001b[43mvalue\u001b[49m\u001b[43m}\u001b[49m\u001b[43m)\u001b[49m[\u001b[38;5;124m\"\u001b[39m\u001b[38;5;124mvalue\u001b[39m\u001b[38;5;124m\"\u001b[39m]\n",
      "File \u001b[1;32m~\\AppData\\Local\\Programs\\Python\\Python311\\Lib\\site-packages\\selenium\\webdriver\\remote\\webdriver.py:346\u001b[0m, in \u001b[0;36mWebDriver.execute\u001b[1;34m(self, driver_command, params)\u001b[0m\n\u001b[0;32m    344\u001b[0m response \u001b[38;5;241m=\u001b[39m \u001b[38;5;28mself\u001b[39m\u001b[38;5;241m.\u001b[39mcommand_executor\u001b[38;5;241m.\u001b[39mexecute(driver_command, params)\n\u001b[0;32m    345\u001b[0m \u001b[38;5;28;01mif\u001b[39;00m response:\n\u001b[1;32m--> 346\u001b[0m     \u001b[38;5;28;43mself\u001b[39;49m\u001b[38;5;241;43m.\u001b[39;49m\u001b[43merror_handler\u001b[49m\u001b[38;5;241;43m.\u001b[39;49m\u001b[43mcheck_response\u001b[49m\u001b[43m(\u001b[49m\u001b[43mresponse\u001b[49m\u001b[43m)\u001b[49m\n\u001b[0;32m    347\u001b[0m     response[\u001b[38;5;124m\"\u001b[39m\u001b[38;5;124mvalue\u001b[39m\u001b[38;5;124m\"\u001b[39m] \u001b[38;5;241m=\u001b[39m \u001b[38;5;28mself\u001b[39m\u001b[38;5;241m.\u001b[39m_unwrap_value(response\u001b[38;5;241m.\u001b[39mget(\u001b[38;5;124m\"\u001b[39m\u001b[38;5;124mvalue\u001b[39m\u001b[38;5;124m\"\u001b[39m, \u001b[38;5;28;01mNone\u001b[39;00m))\n\u001b[0;32m    348\u001b[0m     \u001b[38;5;28;01mreturn\u001b[39;00m response\n",
      "File \u001b[1;32m~\\AppData\\Local\\Programs\\Python\\Python311\\Lib\\site-packages\\selenium\\webdriver\\remote\\errorhandler.py:245\u001b[0m, in \u001b[0;36mErrorHandler.check_response\u001b[1;34m(self, response)\u001b[0m\n\u001b[0;32m    243\u001b[0m         alert_text \u001b[38;5;241m=\u001b[39m value[\u001b[38;5;124m\"\u001b[39m\u001b[38;5;124malert\u001b[39m\u001b[38;5;124m\"\u001b[39m]\u001b[38;5;241m.\u001b[39mget(\u001b[38;5;124m\"\u001b[39m\u001b[38;5;124mtext\u001b[39m\u001b[38;5;124m\"\u001b[39m)\n\u001b[0;32m    244\u001b[0m     \u001b[38;5;28;01mraise\u001b[39;00m exception_class(message, screen, stacktrace, alert_text)  \u001b[38;5;66;03m# type: ignore[call-arg]  # mypy is not smart enough here\u001b[39;00m\n\u001b[1;32m--> 245\u001b[0m \u001b[38;5;28;01mraise\u001b[39;00m exception_class(message, screen, stacktrace)\n",
      "\u001b[1;31mNoSuchElementException\u001b[0m: Message: no such element: Unable to locate element: {\"method\":\"css selector\",\"selector\":\"[id=\"search_description\"]\"}\n  (Session info: chrome=114.0.5735.199); For documentation on this error, please visit: https://www.selenium.dev/documentation/webdriver/troubleshooting/errors#no-such-element-exception\nStacktrace:\nBacktrace:\n\tGetHandleVerifier [0x0107A813+48355]\n\t(No symbol) [0x0100C4B1]\n\t(No symbol) [0x00F15358]\n\t(No symbol) [0x00F409A5]\n\t(No symbol) [0x00F40B3B]\n\t(No symbol) [0x00F6E232]\n\t(No symbol) [0x00F5A784]\n\t(No symbol) [0x00F6C922]\n\t(No symbol) [0x00F5A536]\n\t(No symbol) [0x00F382DC]\n\t(No symbol) [0x00F393DD]\n\tGetHandleVerifier [0x012DAABD+2539405]\n\tGetHandleVerifier [0x0131A78F+2800735]\n\tGetHandleVerifier [0x0131456C+2775612]\n\tGetHandleVerifier [0x011051E0+616112]\n\t(No symbol) [0x01015F8C]\n\t(No symbol) [0x01012328]\n\t(No symbol) [0x0101240B]\n\t(No symbol) [0x01004FF7]\n\tBaseThreadInitThunk [0x76716BA9+25]\n\tRtlGetFullPathName_UEx [0x77438F9F+1215]\n\tRtlGetFullPathName_UEx [0x77438F6D+1165]\n"
     ]
    }
   ],
   "source": [
    "\n",
    "find_section = driver.find_element(By.ID, value = 'search_description')\n",
    "find_section.click()\n",
    "find_section.send_keys('Restaurants')\n"
   ]
  },
  {
   "cell_type": "code",
   "execution_count": null,
   "id": "a87b1d3d",
   "metadata": {},
   "outputs": [],
   "source": [
    "\n",
    "search_button = driver.find_element(By.XPATH, value = '//button[@class =  \"find-near-button__09f24__cN8vv css-1vg9j2\"]')\n",
    "search_button.click()\n",
    "# time.sleep(3)\n"
   ]
  },
  {
   "cell_type": "code",
   "execution_count": null,
   "id": "3652b5a4",
   "metadata": {},
   "outputs": [],
   "source": [
    "# wait until show cookies and accept it\n",
    "\n",
    "# WebDriverWait(driver, 10).until(EC.element_to_be_clickable((By.ID, \"onetrust-accept-btn-handler\"))).click()\n"
   ]
  },
  {
   "cell_type": "markdown",
   "id": "38ad5e97",
   "metadata": {},
   "source": [
    "# Find Data"
   ]
  },
  {
   "cell_type": "code",
   "execution_count": null,
   "id": "c98a527e",
   "metadata": {},
   "outputs": [],
   "source": [
    "data = []\n",
    "\n",
    "while True:\n",
    "    try:\n",
    "        all_items = driver.find_elements(By.XPATH, value = '//div[@class =\"  padding-t3__09f24__TMrIW padding-r3__09f24__eaF7p padding-b3__09f24__S8R2d padding-l3__09f24__IOjKY border-color--default__09f24__NPAKY\"]')\n",
    "        for item in all_items:\n",
    "            try:\n",
    "                name = item.find_element(By.XPATH, value = './/a[@class =\"css-19v1rkv\"]').text\n",
    "            except:\n",
    "                name = 'Unknown'\n",
    "\n",
    "            try:\n",
    "                location = item.find_element(By.XPATH, value = \".//p[@class='css-dzq7l1']/span[@class = ' css-chan6m']\").text\n",
    "                if location == \"\":\n",
    "                    location = \"Unknown\"\n",
    "            except:\n",
    "                location = 'Unknown'\n",
    "\n",
    "            try:\n",
    "                review_counts = item.find_element(By.XPATH, value = \".//div[@class=' display--inline-block__09f24__fEDiJ  border-color--default__09f24__NPAKY']/span[@class = ' css-chan6m']\").text\n",
    "            except:\n",
    "                review_counts = -1\n",
    "\n",
    "            try:\n",
    "                stars = item.find_element(By.XPATH, value = \".//div[@class = ' five-stars__09f24__mBKym five-stars--regular__09f24__DgBNj display--inline-block__09f24__fEDiJ  border-color--default__09f24__NPAKY']\")\n",
    "                stars_number = stars.get_attribute('aria-label').split(' ')[0]\n",
    "            except:\n",
    "                stars_number = -1\n",
    "\n",
    "            data.append([name, location, int(review_counts), float(stars_number)])\n",
    "        \n",
    "        next_page = driver.find_element(By.XPATH, value = \"//a[@class = 'next-link navigation-button__09f24__m9qRz css-ahgoya']\")\n",
    "        next_page.click()\n",
    "#         driver.execute_script(\"arguments[0].click();\", next_page)\n",
    "        time.sleep(3)\n",
    "            \n",
    "    except:\n",
    "        break\n",
    "        \n",
    "print('How long does it take to scrape the whole webpage? {} seconds'.format(time.time() - start_time))"
   ]
  },
  {
   "cell_type": "code",
   "execution_count": null,
   "id": "8ad61f68",
   "metadata": {},
   "outputs": [],
   "source": [
    "data"
   ]
  },
  {
   "cell_type": "code",
   "execution_count": null,
   "id": "0168da59",
   "metadata": {},
   "outputs": [],
   "source": [
    "len(data)"
   ]
  },
  {
   "cell_type": "markdown",
   "id": "fde0e981",
   "metadata": {},
   "source": [
    "# Create Pandas Dataframe"
   ]
  },
  {
   "cell_type": "code",
   "execution_count": null,
   "id": "21a1ae0f",
   "metadata": {},
   "outputs": [],
   "source": [
    "df = pd.DataFrame(data, columns = ['Name', 'Location', 'ReviewCounts', 'StarsNumber'])\n",
    "df"
   ]
  },
  {
   "cell_type": "code",
   "execution_count": null,
   "id": "3b20d505",
   "metadata": {},
   "outputs": [],
   "source": [
    "# df.to_csv(\"Dallas_Resturant_data\", index=False)"
   ]
  }
 ],
 "metadata": {
  "kernelspec": {
   "display_name": "Python 3 (ipykernel)",
   "language": "python",
   "name": "python3"
  },
  "language_info": {
   "codemirror_mode": {
    "name": "ipython",
    "version": 3
   },
   "file_extension": ".py",
   "mimetype": "text/x-python",
   "name": "python",
   "nbconvert_exporter": "python",
   "pygments_lexer": "ipython3",
   "version": "3.11.2"
  }
 },
 "nbformat": 4,
 "nbformat_minor": 5
}
