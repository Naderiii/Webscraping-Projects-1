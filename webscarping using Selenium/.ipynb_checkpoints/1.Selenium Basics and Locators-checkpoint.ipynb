{
 "cells": [
  {
   "cell_type": "markdown",
   "id": "2b141edb",
   "metadata": {},
   "source": [
    "# Import the required libraries and modules"
   ]
  },
  {
   "cell_type": "code",
   "execution_count": 1,
   "id": "69f12a0f",
   "metadata": {},
   "outputs": [],
   "source": [
    "from selenium import webdriver\n",
    "from selenium.webdriver.common.by import By\n",
    "from selenium.webdriver.chrome.service import Service\n",
    "import time"
   ]
  },
  {
   "cell_type": "markdown",
   "id": "181bf9dc",
   "metadata": {},
   "source": [
    "## Setup and Start"
   ]
  },
  {
   "cell_type": "code",
   "execution_count": 5,
   "id": "d8eb6eef",
   "metadata": {},
   "outputs": [],
   "source": [
    "url = \"https://www.yelp.com/\"\n",
    "s = Service(\"chromedriver-win32/chromedriver\")\n",
    "\n",
    "driver = webdriver.Chrome(service = s)\n",
    "driver.get(url)\n",
    "time.sleep(3)"
   ]
  },
  {
   "cell_type": "markdown",
   "id": "ece6e705",
   "metadata": {},
   "source": [
    "## Locator"
   ]
  },
  {
   "cell_type": "markdown",
   "id": "2d558309",
   "metadata": {},
   "source": [
    "### Class Name"
   ]
  },
  {
   "cell_type": "code",
   "execution_count": 6,
   "id": "2e4deb53",
   "metadata": {},
   "outputs": [],
   "source": [
    "items = driver.find_elements(By.CLASS_NAME, value = \"header-link_anchor__09f24__eCD4u\")"
   ]
  },
  {
   "cell_type": "code",
   "execution_count": 7,
   "id": "a9d022f5",
   "metadata": {},
   "outputs": [
    {
     "data": {
      "text/plain": [
       "4"
      ]
     },
     "execution_count": 7,
     "metadata": {},
     "output_type": "execute_result"
    }
   ],
   "source": [
    "len(items)"
   ]
  },
  {
   "cell_type": "code",
   "execution_count": 8,
   "id": "be1e9ff0",
   "metadata": {},
   "outputs": [
    {
     "name": "stdout",
     "output_type": "stream",
     "text": [
      "Restaurants\n",
      "Handwerksleistungen\n",
      "Rund ums Auto\n",
      "Mehr\n"
     ]
    }
   ],
   "source": [
    "for item in items:\n",
    "    print(item.text)"
   ]
  },
  {
   "cell_type": "code",
   "execution_count": 9,
   "id": "8e90b385",
   "metadata": {},
   "outputs": [
    {
     "data": {
      "text/plain": [
       "'Handwerksleistungen'"
      ]
     },
     "execution_count": 9,
     "metadata": {},
     "output_type": "execute_result"
    }
   ],
   "source": [
    "items[1].text"
   ]
  },
  {
   "cell_type": "markdown",
   "id": "cb401bef",
   "metadata": {},
   "source": [
    "### Button"
   ]
  },
  {
   "cell_type": "code",
   "execution_count": 10,
   "id": "100ca2b8",
   "metadata": {},
   "outputs": [
    {
     "ename": "NoSuchElementException",
     "evalue": "Message: no such element: Unable to locate element: {\"method\":\"css selector\",\"selector\":\"[id=\"googleidentityservice\"]\"}\n  (Session info: chrome=114.0.5735.199); For documentation on this error, please visit: https://www.selenium.dev/documentation/webdriver/troubleshooting/errors#no-such-element-exception\nStacktrace:\nBacktrace:\n\tGetHandleVerifier [0x00C5A813+48355]\n\t(No symbol) [0x00BEC4B1]\n\t(No symbol) [0x00AF5358]\n\t(No symbol) [0x00B209A5]\n\t(No symbol) [0x00B20B3B]\n\t(No symbol) [0x00B4E232]\n\t(No symbol) [0x00B3A784]\n\t(No symbol) [0x00B4C922]\n\t(No symbol) [0x00B3A536]\n\t(No symbol) [0x00B182DC]\n\t(No symbol) [0x00B193DD]\n\tGetHandleVerifier [0x00EBAABD+2539405]\n\tGetHandleVerifier [0x00EFA78F+2800735]\n\tGetHandleVerifier [0x00EF456C+2775612]\n\tGetHandleVerifier [0x00CE51E0+616112]\n\t(No symbol) [0x00BF5F8C]\n\t(No symbol) [0x00BF2328]\n\t(No symbol) [0x00BF240B]\n\t(No symbol) [0x00BE4FF7]\n\tBaseThreadInitThunk [0x76716BA9+25]\n\tRtlGetFullPathName_UEx [0x77438F9F+1215]\n\tRtlGetFullPathName_UEx [0x77438F6D+1165]\n",
     "output_type": "error",
     "traceback": [
      "\u001b[1;31m---------------------------------------------------------------------------\u001b[0m",
      "\u001b[1;31mNoSuchElementException\u001b[0m                    Traceback (most recent call last)",
      "Cell \u001b[1;32mIn[10], line 1\u001b[0m\n\u001b[1;32m----> 1\u001b[0m button_search \u001b[38;5;241m=\u001b[39m \u001b[43mdriver\u001b[49m\u001b[38;5;241;43m.\u001b[39;49m\u001b[43mfind_element\u001b[49m\u001b[43m(\u001b[49m\u001b[43mBy\u001b[49m\u001b[38;5;241;43m.\u001b[39;49m\u001b[43mID\u001b[49m\u001b[43m \u001b[49m\u001b[43m,\u001b[49m\u001b[43m \u001b[49m\u001b[43mvalue\u001b[49m\u001b[43m \u001b[49m\u001b[38;5;241;43m=\u001b[39;49m\u001b[43m \u001b[49m\u001b[38;5;124;43m'\u001b[39;49m\u001b[38;5;124;43mgoogleidentityservice\u001b[39;49m\u001b[38;5;124;43m'\u001b[39;49m\u001b[43m)\u001b[49m\n\u001b[0;32m      2\u001b[0m button_search\u001b[38;5;241m.\u001b[39mclick()\n",
      "File \u001b[1;32m~\\AppData\\Local\\Programs\\Python\\Python311\\Lib\\site-packages\\selenium\\webdriver\\remote\\webdriver.py:740\u001b[0m, in \u001b[0;36mWebDriver.find_element\u001b[1;34m(self, by, value)\u001b[0m\n\u001b[0;32m    737\u001b[0m     by \u001b[38;5;241m=\u001b[39m By\u001b[38;5;241m.\u001b[39mCSS_SELECTOR\n\u001b[0;32m    738\u001b[0m     value \u001b[38;5;241m=\u001b[39m \u001b[38;5;124mf\u001b[39m\u001b[38;5;124m'\u001b[39m\u001b[38;5;124m[name=\u001b[39m\u001b[38;5;124m\"\u001b[39m\u001b[38;5;132;01m{\u001b[39;00mvalue\u001b[38;5;132;01m}\u001b[39;00m\u001b[38;5;124m\"\u001b[39m\u001b[38;5;124m]\u001b[39m\u001b[38;5;124m'\u001b[39m\n\u001b[1;32m--> 740\u001b[0m \u001b[38;5;28;01mreturn\u001b[39;00m \u001b[38;5;28;43mself\u001b[39;49m\u001b[38;5;241;43m.\u001b[39;49m\u001b[43mexecute\u001b[49m\u001b[43m(\u001b[49m\u001b[43mCommand\u001b[49m\u001b[38;5;241;43m.\u001b[39;49m\u001b[43mFIND_ELEMENT\u001b[49m\u001b[43m,\u001b[49m\u001b[43m \u001b[49m\u001b[43m{\u001b[49m\u001b[38;5;124;43m\"\u001b[39;49m\u001b[38;5;124;43musing\u001b[39;49m\u001b[38;5;124;43m\"\u001b[39;49m\u001b[43m:\u001b[49m\u001b[43m \u001b[49m\u001b[43mby\u001b[49m\u001b[43m,\u001b[49m\u001b[43m \u001b[49m\u001b[38;5;124;43m\"\u001b[39;49m\u001b[38;5;124;43mvalue\u001b[39;49m\u001b[38;5;124;43m\"\u001b[39;49m\u001b[43m:\u001b[49m\u001b[43m \u001b[49m\u001b[43mvalue\u001b[49m\u001b[43m}\u001b[49m\u001b[43m)\u001b[49m[\u001b[38;5;124m\"\u001b[39m\u001b[38;5;124mvalue\u001b[39m\u001b[38;5;124m\"\u001b[39m]\n",
      "File \u001b[1;32m~\\AppData\\Local\\Programs\\Python\\Python311\\Lib\\site-packages\\selenium\\webdriver\\remote\\webdriver.py:346\u001b[0m, in \u001b[0;36mWebDriver.execute\u001b[1;34m(self, driver_command, params)\u001b[0m\n\u001b[0;32m    344\u001b[0m response \u001b[38;5;241m=\u001b[39m \u001b[38;5;28mself\u001b[39m\u001b[38;5;241m.\u001b[39mcommand_executor\u001b[38;5;241m.\u001b[39mexecute(driver_command, params)\n\u001b[0;32m    345\u001b[0m \u001b[38;5;28;01mif\u001b[39;00m response:\n\u001b[1;32m--> 346\u001b[0m     \u001b[38;5;28;43mself\u001b[39;49m\u001b[38;5;241;43m.\u001b[39;49m\u001b[43merror_handler\u001b[49m\u001b[38;5;241;43m.\u001b[39;49m\u001b[43mcheck_response\u001b[49m\u001b[43m(\u001b[49m\u001b[43mresponse\u001b[49m\u001b[43m)\u001b[49m\n\u001b[0;32m    347\u001b[0m     response[\u001b[38;5;124m\"\u001b[39m\u001b[38;5;124mvalue\u001b[39m\u001b[38;5;124m\"\u001b[39m] \u001b[38;5;241m=\u001b[39m \u001b[38;5;28mself\u001b[39m\u001b[38;5;241m.\u001b[39m_unwrap_value(response\u001b[38;5;241m.\u001b[39mget(\u001b[38;5;124m\"\u001b[39m\u001b[38;5;124mvalue\u001b[39m\u001b[38;5;124m\"\u001b[39m, \u001b[38;5;28;01mNone\u001b[39;00m))\n\u001b[0;32m    348\u001b[0m     \u001b[38;5;28;01mreturn\u001b[39;00m response\n",
      "File \u001b[1;32m~\\AppData\\Local\\Programs\\Python\\Python311\\Lib\\site-packages\\selenium\\webdriver\\remote\\errorhandler.py:245\u001b[0m, in \u001b[0;36mErrorHandler.check_response\u001b[1;34m(self, response)\u001b[0m\n\u001b[0;32m    243\u001b[0m         alert_text \u001b[38;5;241m=\u001b[39m value[\u001b[38;5;124m\"\u001b[39m\u001b[38;5;124malert\u001b[39m\u001b[38;5;124m\"\u001b[39m]\u001b[38;5;241m.\u001b[39mget(\u001b[38;5;124m\"\u001b[39m\u001b[38;5;124mtext\u001b[39m\u001b[38;5;124m\"\u001b[39m)\n\u001b[0;32m    244\u001b[0m     \u001b[38;5;28;01mraise\u001b[39;00m exception_class(message, screen, stacktrace, alert_text)  \u001b[38;5;66;03m# type: ignore[call-arg]  # mypy is not smart enough here\u001b[39;00m\n\u001b[1;32m--> 245\u001b[0m \u001b[38;5;28;01mraise\u001b[39;00m exception_class(message, screen, stacktrace)\n",
      "\u001b[1;31mNoSuchElementException\u001b[0m: Message: no such element: Unable to locate element: {\"method\":\"css selector\",\"selector\":\"[id=\"googleidentityservice\"]\"}\n  (Session info: chrome=114.0.5735.199); For documentation on this error, please visit: https://www.selenium.dev/documentation/webdriver/troubleshooting/errors#no-such-element-exception\nStacktrace:\nBacktrace:\n\tGetHandleVerifier [0x00C5A813+48355]\n\t(No symbol) [0x00BEC4B1]\n\t(No symbol) [0x00AF5358]\n\t(No symbol) [0x00B209A5]\n\t(No symbol) [0x00B20B3B]\n\t(No symbol) [0x00B4E232]\n\t(No symbol) [0x00B3A784]\n\t(No symbol) [0x00B4C922]\n\t(No symbol) [0x00B3A536]\n\t(No symbol) [0x00B182DC]\n\t(No symbol) [0x00B193DD]\n\tGetHandleVerifier [0x00EBAABD+2539405]\n\tGetHandleVerifier [0x00EFA78F+2800735]\n\tGetHandleVerifier [0x00EF456C+2775612]\n\tGetHandleVerifier [0x00CE51E0+616112]\n\t(No symbol) [0x00BF5F8C]\n\t(No symbol) [0x00BF2328]\n\t(No symbol) [0x00BF240B]\n\t(No symbol) [0x00BE4FF7]\n\tBaseThreadInitThunk [0x76716BA9+25]\n\tRtlGetFullPathName_UEx [0x77438F9F+1215]\n\tRtlGetFullPathName_UEx [0x77438F6D+1165]\n"
     ]
    }
   ],
   "source": [
    "# button_search = driver.find_element(By.ID , value = '')\n",
    "# button_search.click()"
   ]
  },
  {
   "cell_type": "markdown",
   "id": "0f57a3d5",
   "metadata": {},
   "source": [
    "### ID"
   ]
  },
  {
   "cell_type": "code",
   "execution_count": 11,
   "id": "84c54ad9",
   "metadata": {},
   "outputs": [
    {
     "data": {
      "text/plain": [
       "'Frankfurt am Main, Hessen'"
      ]
     },
     "execution_count": 11,
     "metadata": {},
     "output_type": "execute_result"
    }
   ],
   "source": [
    "city = driver.find_element(By.ID, value = 'search_location')\n",
    "city.get_attribute(\"value\")"
   ]
  },
  {
   "cell_type": "markdown",
   "id": "4a5f643c",
   "metadata": {},
   "source": [
    "### LinkText"
   ]
  },
  {
   "cell_type": "code",
   "execution_count": 13,
   "id": "88ca55da",
   "metadata": {},
   "outputs": [
    {
     "data": {
      "text/plain": [
       "'https://www.yelp.de/biz/ma-pasta-d-angelo-frankfurt-am-main'"
      ]
     },
     "execution_count": 13,
     "metadata": {},
     "output_type": "execute_result"
    }
   ],
   "source": [
    "# value is text of url that refer to it\n",
    "\n",
    "help_link = driver.find_element(By.LINK_TEXT , value = 'Ma Pasta D’ Angelo')\n",
    "help_link.get_attribute(\"href\")"
   ]
  },
  {
   "cell_type": "markdown",
   "id": "5f057889",
   "metadata": {},
   "source": [
    "### XPath"
   ]
  },
  {
   "cell_type": "code",
   "execution_count": 15,
   "id": "fc51a7b3",
   "metadata": {},
   "outputs": [
    {
     "data": {
      "text/plain": [
       "3"
      ]
     },
     "execution_count": 15,
     "metadata": {},
     "output_type": "execute_result"
    }
   ],
   "source": [
    "# syntax ===> //tag[@attribute = 'value']    or  (//tag[@attribute = 'value'])[last()] \n",
    "\n",
    "items = driver.find_elements(By.XPATH , value = '//a[@class =  \" header-link_anchor__09f24__eCD4u\" ]')\n",
    "len(items)"
   ]
  },
  {
   "cell_type": "code",
   "execution_count": 16,
   "id": "5c077be6",
   "metadata": {},
   "outputs": [
    {
     "name": "stdout",
     "output_type": "stream",
     "text": [
      "Restaurants\n",
      "Handwerksleistungen\n",
      "Rund ums Auto\n"
     ]
    }
   ],
   "source": [
    "for item in items:\n",
    "    print(item.text)"
   ]
  },
  {
   "cell_type": "code",
   "execution_count": 18,
   "id": "d4e701be",
   "metadata": {},
   "outputs": [
    {
     "data": {
      "text/plain": [
       "'Handwerksleistungen'"
      ]
     },
     "execution_count": 18,
     "metadata": {},
     "output_type": "execute_result"
    }
   ],
   "source": [
    "items[1].text"
   ]
  },
  {
   "cell_type": "code",
   "execution_count": null,
   "id": "70014247",
   "metadata": {},
   "outputs": [],
   "source": []
  }
 ],
 "metadata": {
  "kernelspec": {
   "display_name": "Python 3 (ipykernel)",
   "language": "python",
   "name": "python3"
  },
  "language_info": {
   "codemirror_mode": {
    "name": "ipython",
    "version": 3
   },
   "file_extension": ".py",
   "mimetype": "text/x-python",
   "name": "python",
   "nbconvert_exporter": "python",
   "pygments_lexer": "ipython3",
   "version": "3.11.2"
  }
 },
 "nbformat": 4,
 "nbformat_minor": 5
}
