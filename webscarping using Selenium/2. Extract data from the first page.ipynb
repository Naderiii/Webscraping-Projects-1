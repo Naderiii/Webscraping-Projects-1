{
 "cells": [
  {
   "cell_type": "markdown",
   "id": "6c8854fb",
   "metadata": {},
   "source": [
    "# Import the required libraries and modules"
   ]
  },
  {
   "cell_type": "code",
   "execution_count": 1,
   "id": "10062467",
   "metadata": {},
   "outputs": [],
   "source": [
    "from selenium import webdriver\n",
    "from selenium.webdriver.common.by import By\n",
    "from selenium.webdriver.chrome.service import Service\n",
    "\n",
    "import pandas as pd\n",
    "import time"
   ]
  },
  {
   "cell_type": "markdown",
   "id": "a457537c",
   "metadata": {},
   "source": [
    "# Setup and Start"
   ]
  },
  {
   "cell_type": "code",
   "execution_count": 2,
   "id": "420068d3",
   "metadata": {},
   "outputs": [],
   "source": [
    "url = \"https://www.yelp.com/\"\n",
    "s = Service(\"chromedriver-win32/chromedriver\")\n",
    "\n",
    "driver = webdriver.Chrome(service = s)\n",
    "driver.get(url)\n",
    "time.sleep(3)"
   ]
  },
  {
   "cell_type": "markdown",
   "id": "ea33da43",
   "metadata": {},
   "source": [
    "# Search about Resturant"
   ]
  },
  {
   "cell_type": "code",
   "execution_count": 3,
   "id": "020b78e8",
   "metadata": {},
   "outputs": [],
   "source": [
    "find_section = driver.find_element(By.ID, value = 'search_description')\n",
    "find_section.click()\n",
    "find_section.send_keys('Restaurants')"
   ]
  },
  {
   "cell_type": "code",
   "execution_count": 4,
   "id": "a87b1d3d",
   "metadata": {},
   "outputs": [],
   "source": [
    "search_button = driver.find_element(By.XPATH, value = '//button[@class =  \"find-near-button__09f24__cN8vv css-1vg9j2\"]')\n",
    "search_button.click()\n",
    "# time.sleep(3)"
   ]
  },
  {
   "cell_type": "markdown",
   "id": "38ad5e97",
   "metadata": {},
   "source": [
    "# Find Data"
   ]
  },
  {
   "cell_type": "code",
   "execution_count": 8,
   "id": "31c5646a",
   "metadata": {},
   "outputs": [],
   "source": [
    "all_items = driver.find_elements(By.XPATH, value = '//div[@class =\"  padding-t3__09f24__TMrIW padding-r3__09f24__eaF7p padding-b3__09f24__S8R2d padding-l3__09f24__IOjKY border-color--default__09f24__NPAKY\"]')\n",
    "\n",
    "data = []\n",
    "\n",
    "for item in all_items:\n",
    "    try:\n",
    "        name = item.find_element(By.XPATH, value = './/a[@class =\"css-19v1rkv\"]').text\n",
    "    except:\n",
    "        name = 'Unknown'\n",
    "    \n",
    "    try:\n",
    "        location = item.find_element(By.XPATH, value = \".//p[@class='css-dzq7l1']/span[@class = ' css-chan6m']\").text\n",
    "    except:\n",
    "        location = 'Unknown'\n",
    "    \n",
    "    try:\n",
    "        review_counts = item.find_element(By.XPATH, value = \".//div[@class=' display--inline-block__09f24__fEDiJ  border-color--default__09f24__NPAKY']/span[@class = ' css-chan6m']\").text\n",
    "    except:\n",
    "        review_counts = -1\n",
    "    \n",
    "    try:\n",
    "        stars = item.find_element(By.XPATH, value = \".//div[@class = ' five-stars__09f24__mBKym five-stars--regular__09f24__DgBNj display--inline-block__09f24__fEDiJ  border-color--default__09f24__NPAKY']\")\n",
    "        stars_number = stars.get_attribute('aria-label').split(' ')[0]\n",
    "    except:\n",
    "        stars_number = -1\n",
    "        \n",
    "    data.append([name, location, int(review_counts), float(stars_number)])"
   ]
  },
  {
   "cell_type": "code",
   "execution_count": 9,
   "id": "8ad61f68",
   "metadata": {},
   "outputs": [
    {
     "data": {
      "text/plain": [
       "[['Teakwood', 'Hayes Valley', 22, 4.5],\n",
       " ['Mattina', 'Lower Pacific Heights', 36, 4.0],\n",
       " ['Marufuku Ramen', 'Japantown', 4676, 4.5],\n",
       " ['Katsuo + Kombu', 'NoPa', 16, 4.5],\n",
       " ['Savor', 'Inner Sunset', 148, 4.5],\n",
       " ['Kothai Republic', 'Inner Sunset', 159, 4.5],\n",
       " ['The Snug', 'Pacific Heights', 399, 4.0],\n",
       " ['Lokma', 'Outer Richmond', 695, 4.5],\n",
       " ['Bottega', 'Mission', 791, 4.5],\n",
       " ['That’s My Jam', 'Lower Haight', 57, 5.0]]"
      ]
     },
     "execution_count": 9,
     "metadata": {},
     "output_type": "execute_result"
    }
   ],
   "source": [
    "data"
   ]
  },
  {
   "cell_type": "code",
   "execution_count": 10,
   "id": "0168da59",
   "metadata": {},
   "outputs": [
    {
     "data": {
      "text/plain": [
       "10"
      ]
     },
     "execution_count": 10,
     "metadata": {},
     "output_type": "execute_result"
    }
   ],
   "source": [
    "len(data)"
   ]
  },
  {
   "cell_type": "markdown",
   "id": "fde0e981",
   "metadata": {},
   "source": [
    "# Create Pandas Dataframe"
   ]
  },
  {
   "cell_type": "code",
   "execution_count": 11,
   "id": "21a1ae0f",
   "metadata": {},
   "outputs": [
    {
     "data": {
      "text/html": [
       "<div>\n",
       "<style scoped>\n",
       "    .dataframe tbody tr th:only-of-type {\n",
       "        vertical-align: middle;\n",
       "    }\n",
       "\n",
       "    .dataframe tbody tr th {\n",
       "        vertical-align: top;\n",
       "    }\n",
       "\n",
       "    .dataframe thead th {\n",
       "        text-align: right;\n",
       "    }\n",
       "</style>\n",
       "<table border=\"1\" class=\"dataframe\">\n",
       "  <thead>\n",
       "    <tr style=\"text-align: right;\">\n",
       "      <th></th>\n",
       "      <th>Name</th>\n",
       "      <th>Location</th>\n",
       "      <th>ReviewCounts</th>\n",
       "      <th>StarsNumber</th>\n",
       "    </tr>\n",
       "  </thead>\n",
       "  <tbody>\n",
       "    <tr>\n",
       "      <th>0</th>\n",
       "      <td>Teakwood</td>\n",
       "      <td>Hayes Valley</td>\n",
       "      <td>22</td>\n",
       "      <td>4.5</td>\n",
       "    </tr>\n",
       "    <tr>\n",
       "      <th>1</th>\n",
       "      <td>Mattina</td>\n",
       "      <td>Lower Pacific Heights</td>\n",
       "      <td>36</td>\n",
       "      <td>4.0</td>\n",
       "    </tr>\n",
       "    <tr>\n",
       "      <th>2</th>\n",
       "      <td>Marufuku Ramen</td>\n",
       "      <td>Japantown</td>\n",
       "      <td>4676</td>\n",
       "      <td>4.5</td>\n",
       "    </tr>\n",
       "    <tr>\n",
       "      <th>3</th>\n",
       "      <td>Katsuo + Kombu</td>\n",
       "      <td>NoPa</td>\n",
       "      <td>16</td>\n",
       "      <td>4.5</td>\n",
       "    </tr>\n",
       "    <tr>\n",
       "      <th>4</th>\n",
       "      <td>Savor</td>\n",
       "      <td>Inner Sunset</td>\n",
       "      <td>148</td>\n",
       "      <td>4.5</td>\n",
       "    </tr>\n",
       "    <tr>\n",
       "      <th>5</th>\n",
       "      <td>Kothai Republic</td>\n",
       "      <td>Inner Sunset</td>\n",
       "      <td>159</td>\n",
       "      <td>4.5</td>\n",
       "    </tr>\n",
       "    <tr>\n",
       "      <th>6</th>\n",
       "      <td>The Snug</td>\n",
       "      <td>Pacific Heights</td>\n",
       "      <td>399</td>\n",
       "      <td>4.0</td>\n",
       "    </tr>\n",
       "    <tr>\n",
       "      <th>7</th>\n",
       "      <td>Lokma</td>\n",
       "      <td>Outer Richmond</td>\n",
       "      <td>695</td>\n",
       "      <td>4.5</td>\n",
       "    </tr>\n",
       "    <tr>\n",
       "      <th>8</th>\n",
       "      <td>Bottega</td>\n",
       "      <td>Mission</td>\n",
       "      <td>791</td>\n",
       "      <td>4.5</td>\n",
       "    </tr>\n",
       "    <tr>\n",
       "      <th>9</th>\n",
       "      <td>That’s My Jam</td>\n",
       "      <td>Lower Haight</td>\n",
       "      <td>57</td>\n",
       "      <td>5.0</td>\n",
       "    </tr>\n",
       "  </tbody>\n",
       "</table>\n",
       "</div>"
      ],
      "text/plain": [
       "              Name               Location  ReviewCounts  StarsNumber\n",
       "0         Teakwood           Hayes Valley            22          4.5\n",
       "1          Mattina  Lower Pacific Heights            36          4.0\n",
       "2   Marufuku Ramen              Japantown          4676          4.5\n",
       "3   Katsuo + Kombu                   NoPa            16          4.5\n",
       "4            Savor           Inner Sunset           148          4.5\n",
       "5  Kothai Republic           Inner Sunset           159          4.5\n",
       "6         The Snug        Pacific Heights           399          4.0\n",
       "7            Lokma         Outer Richmond           695          4.5\n",
       "8          Bottega                Mission           791          4.5\n",
       "9    That’s My Jam           Lower Haight            57          5.0"
      ]
     },
     "execution_count": 11,
     "metadata": {},
     "output_type": "execute_result"
    }
   ],
   "source": [
    "df = pd.DataFrame(data, columns = ['Name', 'Location', 'ReviewCounts', 'StarsNumber'])\n",
    "df"
   ]
  },
  {
   "cell_type": "code",
   "execution_count": null,
   "id": "d27d84e6",
   "metadata": {},
   "outputs": [],
   "source": []
  }
 ],
 "metadata": {
  "kernelspec": {
   "display_name": "Python 3 (ipykernel)",
   "language": "python",
   "name": "python3"
  },
  "language_info": {
   "codemirror_mode": {
    "name": "ipython",
    "version": 3
   },
   "file_extension": ".py",
   "mimetype": "text/x-python",
   "name": "python",
   "nbconvert_exporter": "python",
   "pygments_lexer": "ipython3",
   "version": "3.11.2"
  }
 },
 "nbformat": 4,
 "nbformat_minor": 5
}
